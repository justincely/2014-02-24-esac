{
 "metadata": {
  "name": ""
 },
 "nbformat": 3,
 "nbformat_minor": 0,
 "worksheets": [
  {
   "cells": [
    {
     "cell_type": "markdown",
     "metadata": {},
     "source": [
      "# Cool python tips and tricks\n",
      "## Mostly to make things go slightly faster"
     ]
    },
    {
     "cell_type": "markdown",
     "metadata": {},
     "source": [
      "## Generators\n",
      "Lists are collections of objects in memory.  **Generators** on the other hand, return an iterable object that will continue to **yield** the next item at each loop.\n",
      "\n",
      "1.  By returning a value for each iteration and then discarding it, they use considerably less memory than a list.  \n",
      "2.  This leads to faster execution times as the memory does not need to be allocated and blocked off"
     ]
    },
    {
     "cell_type": "code",
     "collapsed": false,
     "input": [
      "# We see the list in memory\n",
      "\n",
      "# We see some strange object\n"
     ],
     "language": "python",
     "metadata": {},
     "outputs": []
    },
    {
     "cell_type": "code",
     "collapsed": false,
     "input": [
      "# You need to iterate over the generator to access the values\n"
     ],
     "language": "python",
     "metadata": {},
     "outputs": []
    },
    {
     "cell_type": "code",
     "collapsed": false,
     "input": [
      "# List: range\n",
      "\n",
      "    \n",
      "# Generator: xrange\n",
      "\n",
      "\n",
      "# `%timeit` is an ipython magic command to time the line of code\n"
     ],
     "language": "python",
     "metadata": {},
     "outputs": []
    },
    {
     "cell_type": "markdown",
     "metadata": {},
     "source": [
      "### Excercise:  What can't you do with generators?  \n",
      "1.  Using range, make a list from 0 to 20, then reverse this list.  Now try to do the same thing using xrange.  "
     ]
    },
    {
     "cell_type": "markdown",
     "metadata": {},
     "source": [
      "### Making your own generator:\n",
      "    \n",
      "The important difference here is the **yield** call instead of **return**.  When **return** is reached, a function will exit.  However, when a **yield** is reached, the value is passed outside the function.  Then the function sits until it is called on to advance."
     ]
    },
    {
     "cell_type": "code",
     "collapsed": false,
     "input": [
      "# personal implementation of xrange\n"
     ],
     "language": "python",
     "metadata": {},
     "outputs": []
    },
    {
     "cell_type": "code",
     "collapsed": false,
     "input": [],
     "language": "python",
     "metadata": {},
     "outputs": []
    },
    {
     "cell_type": "markdown",
     "metadata": {},
     "source": [
      "### Exercise:  \n",
      "\n",
      "1.  Now make *your* own generator.  Write a generator that takes a string as input, and yields each character back.  Execute it to make sure it works."
     ]
    },
    {
     "cell_type": "markdown",
     "metadata": {},
     "source": [
      "### List comprehension and generator expresions \n",
      "\n",
      "List comprehension provides a way to create lists from other iterables without the need of a for-loop and list.append().  They are concise, and are implemented more efficiently in the back-end, which results in faster execution time (but don't ask me how).\n",
      "\n",
      "Generator expressions are similar to list comprehensions, but they return an iterable generator instead of an actual list.  Becuase of this, they are faster and more memory efficient, but you lose the ability to perform list operations on the output."
     ]
    },
    {
     "cell_type": "code",
     "collapsed": false,
     "input": [
      "# Simple function to split a sentence string and reverse each word.\n"
     ],
     "language": "python",
     "metadata": {},
     "outputs": []
    },
    {
     "cell_type": "code",
     "collapsed": false,
     "input": [
      "# Appending to a list\n",
      "# List comprehension\n",
      "# Generator expression\n",
      "sentence = 'The rain in Spain falls mainly on the plain '\n",
      "\n",
      "# Appending to a list\n",
      "\n",
      "\n",
      "# List comprehension, initiated by the square brackets []\n",
      "\n",
      "\n",
      "# Generator expression, initiated by the parenthesis ()\n"
     ],
     "language": "python",
     "metadata": {},
     "outputs": []
    },
    {
     "cell_type": "code",
     "collapsed": false,
     "input": [
      "# performance\n"
     ],
     "language": "python",
     "metadata": {},
     "outputs": []
    },
    {
     "cell_type": "code",
     "collapsed": true,
     "input": [
      "# Types\n"
     ],
     "language": "python",
     "metadata": {},
     "outputs": []
    },
    {
     "cell_type": "code",
     "collapsed": false,
     "input": [],
     "language": "python",
     "metadata": {},
     "outputs": []
    },
    {
     "cell_type": "markdown",
     "metadata": {},
     "source": [
      "### Exercise:  \n",
      "\n",
      "1.  Write both a generator expresion and a list comprehension to return the square of the values from 1 to 10.  "
     ]
    },
    {
     "cell_type": "markdown",
     "metadata": {},
     "source": [
      "List comprehensions and generator expressions can be expanded into relatively comprex expressions as well.  They support multiple function calls, multiple for loops, and conditional statements.  The syntax is fairly odd, but becomes easy with repitition.\n",
      "\n",
      "\\*Argueably, these are one of the least-readible constructs in the Python language - a language which is known for its ease of readibility.  You will have to balance whether others will be able to read your code against the ease of the 1-liner and the performance increase."
     ]
    },
    {
     "cell_type": "code",
     "collapsed": false,
     "input": [],
     "language": "python",
     "metadata": {},
     "outputs": []
    },
    {
     "cell_type": "code",
     "collapsed": false,
     "input": [],
     "language": "python",
     "metadata": {},
     "outputs": []
    },
    {
     "cell_type": "markdown",
     "metadata": {},
     "source": [
      "### Exercises:  \n",
      "1.  Write a list comprehension to return the words that contain either 'a' or 'i'.  \n",
      "2.  Write a generator expresion to return only the odd integers between 1 and 20.  "
     ]
    },
    {
     "cell_type": "markdown",
     "metadata": {},
     "source": [
      "## Numpy tricks"
     ]
    },
    {
     "cell_type": "markdown",
     "metadata": {},
     "source": [
      "Whenever possible, use np functions or built-in methods instead of the standard python versions."
     ]
    },
    {
     "cell_type": "code",
     "collapsed": false,
     "input": [
      "import numpy as np"
     ],
     "language": "python",
     "metadata": {},
     "outputs": []
    },
    {
     "cell_type": "code",
     "collapsed": false,
     "input": [],
     "language": "python",
     "metadata": {},
     "outputs": []
    },
    {
     "cell_type": "markdown",
     "metadata": {},
     "source": [
      "This is because many numpy functions are universal functions, or **Ufuncs**.  These are pre-compiled c-code with both the looping and math already implemented and optimized.\n",
      "\n",
      "As a rule, these are always faster then their equivalent functions in basic python. "
     ]
    },
    {
     "cell_type": "code",
     "collapsed": false,
     "input": [
      "#Performance"
     ],
     "language": "python",
     "metadata": {},
     "outputs": []
    },
    {
     "cell_type": "markdown",
     "metadata": {},
     "source": [
      "### Excercise:\n",
      "\n",
      "1.  Explore the ufuncs for a moment.  "
     ]
    },
    {
     "cell_type": "code",
     "collapsed": false,
     "input": [
      "from scipy import special\n",
      "special.*.accumulate?\n",
      "#np.*.accumulate?"
     ],
     "language": "python",
     "metadata": {},
     "outputs": []
    },
    {
     "cell_type": "markdown",
     "metadata": {},
     "source": [
      "### Ufuncing ufuncs\n",
      "\n",
      "Ufuncs can be combined to do some rather complicated stuff in one quick and easy line of code."
     ]
    },
    {
     "cell_type": "code",
     "collapsed": false,
     "input": [],
     "language": "python",
     "metadata": {},
     "outputs": []
    },
    {
     "cell_type": "markdown",
     "metadata": {},
     "source": [
      "### Striding\n",
      "\n",
      "Arrays are always implemented in memory as 1d continguous blocks of memory.  Strides are how numpy represents and works with thes 1d blocks and n-dimensional objects."
     ]
    },
    {
     "cell_type": "code",
     "collapsed": false,
     "input": [],
     "language": "python",
     "metadata": {},
     "outputs": []
    },
    {
     "cell_type": "code",
     "collapsed": false,
     "input": [],
     "language": "python",
     "metadata": {},
     "outputs": []
    },
    {
     "cell_type": "markdown",
     "metadata": {},
     "source": [
      "I set the dtype to an 8-bit integer for clarity in explanation.  We can see that the array has 2 rows (y) and 5 columns (x).  What the stride tuple (5,1) means is that to advance from 1 value of y to another, you need to advance 5 places along the 1d array.  To advance to the next value of x, you need to advance just 1 place."
     ]
    },
    {
     "cell_type": "code",
     "collapsed": false,
     "input": [
      "# To re-order or re-shape an array, no modification to the content\n",
      "# Just the strides\n"
     ],
     "language": "python",
     "metadata": {},
     "outputs": []
    },
    {
     "cell_type": "markdown",
     "metadata": {},
     "source": [
      "### Striding correlary: avoid for-loops as much as possible"
     ]
    },
    {
     "cell_type": "code",
     "collapsed": false,
     "input": [
      "# Direct iterative rebinning\n",
      "def rebin_direct(a):\n",
      "    in_y, in_x = a.shape\n",
      "    y = in_y // 2\n",
      "    x = in_x // 2\n",
      "    \n",
      "    out_array = np.zeros((y, x))\n",
      "    for i in range(y):\n",
      "        for j in xrange(x):\n",
      "            for k in xrange(2):\n",
      "                for l in xrange(2):\n",
      "                    out_array[i, j] += a[2*i+k, 2*j+l]\n",
      "    return out_array"
     ],
     "language": "python",
     "metadata": {},
     "outputs": []
    },
    {
     "cell_type": "code",
     "collapsed": false,
     "input": [
      "# Rebinning with slicing"
     ],
     "language": "python",
     "metadata": {},
     "outputs": []
    },
    {
     "cell_type": "code",
     "collapsed": false,
     "input": [
      "# Performance"
     ],
     "language": "python",
     "metadata": {},
     "outputs": []
    },
    {
     "cell_type": "markdown",
     "metadata": {},
     "source": [
      "### Views vs. copies"
     ]
    },
    {
     "cell_type": "code",
     "collapsed": false,
     "input": [],
     "language": "python",
     "metadata": {},
     "outputs": []
    },
    {
     "cell_type": "code",
     "collapsed": false,
     "input": [],
     "language": "python",
     "metadata": {},
     "outputs": []
    },
    {
     "cell_type": "markdown",
     "metadata": {},
     "source": [
      "### Expanding the typical broadcasting behavior."
     ]
    },
    {
     "cell_type": "code",
     "collapsed": false,
     "input": [
      "# Two simple arrays of the same length and dimension\n"
     ],
     "language": "python",
     "metadata": {},
     "outputs": []
    },
    {
     "cell_type": "markdown",
     "metadata": {},
     "source": [
      "We are all familiar with the typical array broadcasting"
     ]
    },
    {
     "cell_type": "code",
     "collapsed": false,
     "input": [],
     "language": "python",
     "metadata": {},
     "outputs": []
    },
    {
     "cell_type": "markdown",
     "metadata": {},
     "source": [
      "But we've probably run into errors like this:"
     ]
    },
    {
     "cell_type": "code",
     "collapsed": false,
     "input": [],
     "language": "python",
     "metadata": {},
     "outputs": []
    },
    {
     "cell_type": "markdown",
     "metadata": {},
     "source": [
      "However, there are actually rules in place to handle broadcasting with arrays of different sizes.  If the arrays are perpendicular to each other, both arrays will appear to be 'duplicated' along the shorter axis until they are of matching size, and then the operation will be performed."
     ]
    },
    {
     "cell_type": "code",
     "collapsed": false,
     "input": [
      "\\"
     ],
     "language": "python",
     "metadata": {},
     "outputs": []
    },
    {
     "cell_type": "code",
     "collapsed": false,
     "input": [
      "# This is equivalent to the below, but without the extra step\n"
     ],
     "language": "python",
     "metadata": {},
     "outputs": []
    },
    {
     "cell_type": "code",
     "collapsed": false,
     "input": [
      "#  In comes np.newaxis\n",
      "#  Our original a and c\n"
     ],
     "language": "python",
     "metadata": {},
     "outputs": []
    },
    {
     "cell_type": "code",
     "collapsed": false,
     "input": [],
     "language": "python",
     "metadata": {},
     "outputs": []
    },
    {
     "cell_type": "code",
     "collapsed": false,
     "input": [],
     "language": "python",
     "metadata": {},
     "outputs": []
    },
    {
     "cell_type": "code",
     "collapsed": false,
     "input": [],
     "language": "python",
     "metadata": {},
     "outputs": []
    },
    {
     "cell_type": "code",
     "collapsed": false,
     "input": [],
     "language": "python",
     "metadata": {},
     "outputs": []
    },
    {
     "cell_type": "markdown",
     "metadata": {},
     "source": [
      "This is helpful becuase it is faster (MUCH FASTER), more memory efficient, and once you understand the syntax the coding has much less to type and much less to mess up."
     ]
    },
    {
     "cell_type": "code",
     "collapsed": false,
     "input": [
      "# Performance\n"
     ],
     "language": "python",
     "metadata": {},
     "outputs": []
    },
    {
     "cell_type": "markdown",
     "metadata": {},
     "source": [
      "### Excercises.  \n",
      "1.  Take a 1D array of length 10 and subtract it from an array of shape 5, 10, 7.  \n",
      "2.  Make multiplication and addition tables for the values 1-10.  "
     ]
    }
   ],
   "metadata": {}
  }
 ]
}