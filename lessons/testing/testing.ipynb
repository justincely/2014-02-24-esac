{
 "metadata": {
  "name": ""
 },
 "nbformat": 3,
 "nbformat_minor": 0,
 "worksheets": [
  {
   "cells": [
    {
     "cell_type": "markdown",
     "metadata": {},
     "source": [
      "# TESTING!\n",
      "\n",
      "1.  Make sure the correct inputs are supplied  \n",
      "2.  Write tests and run against oracles to check output  \n",
      "3.  Automate your testing procedures  \n",
      "4.  Test-driven developement...perhaps test-integrated developement  \n",
      "5.  Continuous integration  "
     ]
    },
    {
     "cell_type": "markdown",
     "metadata": {},
     "source": [
      "### Excercise:  \n",
      "\n",
      "1.  With the person/persons next to you, write down what use cases you should test for the pseudo-code below.  \n",
      "\n",
      "```python\n",
      "def overlap(box1, box2):\n",
      "    ''' Compute overlap area between two rectangles\n",
      "    \n",
      "    '''\n",
      "    \n",
      "    #execute awesome code\n",
      "    return area_overlapping\n",
      "```\n",
      "\n"
     ]
    },
    {
     "cell_type": "markdown",
     "metadata": {},
     "source": [
      "### Break early, break often\n",
      "\n",
      "Perhaps the simplest way to \"test\" your code is to place assertions on the state of the code at specific points.  This is often at the beggining or end of a function call."
     ]
    },
    {
     "cell_type": "code",
     "collapsed": false,
     "input": [
      "# Function with no tests\n",
      "def double(input):\n",
      "    return input * 2"
     ],
     "language": "python",
     "metadata": {},
     "outputs": [],
     "prompt_number": 24
    },
    {
     "cell_type": "code",
     "collapsed": false,
     "input": [
      "print double(50)\n",
      "print double('50')"
     ],
     "language": "python",
     "metadata": {},
     "outputs": [
      {
       "output_type": "stream",
       "stream": "stdout",
       "text": [
        "100\n",
        "5050\n"
       ]
      }
     ],
     "prompt_number": 25
    },
    {
     "cell_type": "markdown",
     "metadata": {},
     "source": [
      "We never explicitely restricted the input to be a number, and since some python operations can be done to other data types, this was able to go through without an error.  But not all operations will go through."
     ]
    },
    {
     "cell_type": "code",
     "collapsed": false,
     "input": [
      "def decrement(input):\n",
      "    return input - 1"
     ],
     "language": "python",
     "metadata": {},
     "outputs": [],
     "prompt_number": 5
    },
    {
     "cell_type": "code",
     "collapsed": false,
     "input": [
      "print decrement(50)\n",
      "print decrement('50')"
     ],
     "language": "python",
     "metadata": {},
     "outputs": [
      {
       "ename": "TypeError",
       "evalue": "unsupported operand type(s) for -: 'str' and 'int'",
       "output_type": "pyerr",
       "traceback": [
        "\u001b[0;31m---------------------------------------------------------------------------\u001b[0m\n\u001b[0;31mTypeError\u001b[0m                                 Traceback (most recent call last)",
        "\u001b[0;32m<ipython-input-6-11b800a66019>\u001b[0m in \u001b[0;36m<module>\u001b[0;34m()\u001b[0m\n\u001b[1;32m      1\u001b[0m \u001b[0;32mprint\u001b[0m \u001b[0mdecrement\u001b[0m\u001b[0;34m(\u001b[0m\u001b[0;36m50\u001b[0m\u001b[0;34m)\u001b[0m\u001b[0;34m\u001b[0m\u001b[0m\n\u001b[0;32m----> 2\u001b[0;31m \u001b[0;32mprint\u001b[0m \u001b[0mdecrement\u001b[0m\u001b[0;34m(\u001b[0m\u001b[0;34m'50'\u001b[0m\u001b[0;34m)\u001b[0m\u001b[0;34m\u001b[0m\u001b[0m\n\u001b[0m",
        "\u001b[0;32m<ipython-input-5-2047e2201df6>\u001b[0m in \u001b[0;36mdecrement\u001b[0;34m(input)\u001b[0m\n\u001b[1;32m      1\u001b[0m \u001b[0;32mdef\u001b[0m \u001b[0mdecrement\u001b[0m\u001b[0;34m(\u001b[0m\u001b[0minput\u001b[0m\u001b[0;34m)\u001b[0m\u001b[0;34m:\u001b[0m\u001b[0;34m\u001b[0m\u001b[0m\n\u001b[0;32m----> 2\u001b[0;31m     \u001b[0;32mreturn\u001b[0m \u001b[0minput\u001b[0m \u001b[0;34m-\u001b[0m \u001b[0;36m1\u001b[0m\u001b[0;34m\u001b[0m\u001b[0m\n\u001b[0m",
        "\u001b[0;31mTypeError\u001b[0m: unsupported operand type(s) for -: 'str' and 'int'"
       ]
      },
      {
       "output_type": "stream",
       "stream": "stdout",
       "text": [
        "49\n"
       ]
      }
     ],
     "prompt_number": 6
    },
    {
     "cell_type": "markdown",
     "metadata": {},
     "source": [
      "Whether it failes or not, both situations are a problem if you always intended these functions to be used on numbers.  If a string makes it through your pipeline, this is a problem that won't be caught here.\n",
      "\n",
      "Again, **break early, break often**"
     ]
    },
    {
     "cell_type": "code",
     "collapsed": false,
     "input": [
      "# Good runtime checking\n",
      "def double(input):\n",
      "    assert type(input) in [float, int], 'Not a number'\n",
      "    \n",
      "    return input * 2"
     ],
     "language": "python",
     "metadata": {},
     "outputs": []
    },
    {
     "cell_type": "code",
     "collapsed": false,
     "input": [
      "# Best runtime checking\n",
      "def double(input):\n",
      "    if not isinstance(input, (float, int)):\n",
      "        raise ValueError('I only take floats or ints')\n",
      "        \n",
      "    return input * 2"
     ],
     "language": "python",
     "metadata": {},
     "outputs": []
    },
    {
     "cell_type": "markdown",
     "metadata": {},
     "source": [
      "The code has now been intentionally bottlenecked.  You know that is going in is a float or int, as is what is being returned."
     ]
    },
    {
     "cell_type": "markdown",
     "metadata": {},
     "source": [
      "### Excercise:  \n",
      "\n",
      "1.  Modify the function below to check the type of the input data and raise an error.  \n",
      "2.  There is one additional thing the function should check for, what is it?  Implement the check if you know.  "
     ]
    },
    {
     "cell_type": "code",
     "collapsed": false,
     "input": [
      "def list_mean(input_list):\n",
      "    return sum(input_list) / len(input_list)"
     ],
     "language": "python",
     "metadata": {},
     "outputs": [],
     "prompt_number": 8
    },
    {
     "cell_type": "markdown",
     "metadata": {},
     "source": [
      "### Write testing functions to run sanity checks on your scripts and functions\n",
      "\n",
      "This does require that you take a function programming approach.  Logical bits of code need to be separated and callable by themselves.\n",
      "\n",
      "Lets first try this by writing a simple statement to run two sanity checks against the function.  "
     ]
    },
    {
     "cell_type": "code",
     "collapsed": false,
     "input": [
      "# Let's do a really simple function to check\n",
      "def check_list_mean():\n",
      "    print list_mean([1, 1, 1, 1, 1]) == 1\n",
      "    print list_mean([1, 2, 3, 4, 5]) == 3"
     ],
     "language": "python",
     "metadata": {},
     "outputs": [],
     "prompt_number": 13
    },
    {
     "cell_type": "code",
     "collapsed": false,
     "input": [
      "check_list_mean()"
     ],
     "language": "python",
     "metadata": {},
     "outputs": [
      {
       "output_type": "stream",
       "stream": "stdout",
       "text": [
        "True\n",
        "True\n"
       ]
      }
     ],
     "prompt_number": 15
    },
    {
     "cell_type": "markdown",
     "metadata": {},
     "source": [
      "That works fine, but what about when you have 200 different tests run on different functions?  Do you really want to look through all the input?  Good tests should be simple: they do nothing if everything is fine, and they break when something fails."
     ]
    },
    {
     "cell_type": "code",
     "collapsed": false,
     "input": [
      "# We now do tests as assertion statements \n",
      "def check_list_mean():\n",
      "    assert list_mean([1, 1, 1, 1, 1]) == 1\n",
      "    assert list_mean([1, 2, 3, 4, 5]) == 3"
     ],
     "language": "python",
     "metadata": {},
     "outputs": [],
     "prompt_number": 16
    },
    {
     "cell_type": "code",
     "collapsed": false,
     "input": [
      "check_list_mean()"
     ],
     "language": "python",
     "metadata": {},
     "outputs": [],
     "prompt_number": 18
    },
    {
     "cell_type": "markdown",
     "metadata": {},
     "source": [
      "Perfect! This is the kind of test we want, becuase this is scalable for the user.  No matter how many tests I have, it is exceedingly simple to know if things failed or not; ANY ouput is a failure.\n",
      "\n",
      "Tests in this format let us move on to the pinnacle of testing: automation"
     ]
    },
    {
     "cell_type": "markdown",
     "metadata": {},
     "source": [
      "### Exercise.  \n",
      "\n",
      "1.  Write 2 test functions, one for `double` and one for `decrement` as we defined them above.  Make sure to think about testing a variety of situations."
     ]
    },
    {
     "cell_type": "markdown",
     "metadata": {},
     "source": [
      "### Automated teting with the Nose library\n",
      "\n",
      "Nose (because it sniffs out bugs in code) is a library that helps automate testing procedures.  With some simple guidelines for how you write your tests, nose will run things for you.\n",
      "\n",
      "Keys:  \n",
      "1.  Test functions MUST start or end with the string 'test'.  i.e. test_double  \n",
      "2.  Test functions MUST be in a file that starts or ends with the string 'test'.  i.e. test_library.py  \n",
      "3.  Test functions/scripts MUST be either in the current directory, or in directories that contain the string 'test'.  i.e. tests.py  \n",
      "4.  Test functions must either do nothing, which indicates a pass, or break, which indicates a failure.  "
     ]
    },
    {
     "cell_type": "markdown",
     "metadata": {},
     "source": [
      "#### Time to leave the notebook."
     ]
    },
    {
     "cell_type": "code",
     "collapsed": false,
     "input": [
      "%%file library.py\n",
      "\n",
      "def double(input):\n",
      "    if not isinstance(input, (float, int)):\n",
      "        raise ValueError('I only take floats or ints')\n",
      "        \n",
      "    return input * 2\n",
      "\n",
      "def list_mean(input_list):\n",
      "    return sum(input_list) / len(input_list)"
     ],
     "language": "python",
     "metadata": {},
     "outputs": [
      {
       "output_type": "stream",
       "stream": "stdout",
       "text": [
        "Writing library.py\n"
       ]
      }
     ],
     "prompt_number": 22
    },
    {
     "cell_type": "code",
     "collapsed": false,
     "input": [
      "%%file test_library.py\n",
      "\n",
      "from library import double, list_mean\n",
      "\n",
      "def test_list_mean():\n",
      "    assert list_mean([1, 1, 1, 1, 1]) == 1\n",
      "    assert list_mean([1, 2, 3, 4, 5]) == 3\n",
      "    \n",
      "def test_double():\n",
      "    assert double(2) == 4"
     ],
     "language": "python",
     "metadata": {},
     "outputs": [
      {
       "output_type": "stream",
       "stream": "stdout",
       "text": [
        "Overwriting test_library.py\n"
       ]
      }
     ],
     "prompt_number": 29
    },
    {
     "cell_type": "code",
     "collapsed": false,
     "input": [
      "!nosetests"
     ],
     "language": "python",
     "metadata": {},
     "outputs": [
      {
       "output_type": "stream",
       "stream": "stdout",
       "text": [
        "..\r\n",
        "----------------------------------------------------------------------\r\n",
        "Ran 2 tests in 0.007s\r\n",
        "\r\n",
        "OK\r\n"
       ]
      }
     ],
     "prompt_number": 30
    },
    {
     "cell_type": "markdown",
     "metadata": {},
     "source": [
      "### How to efficiently use testing?\n",
      "\n",
      "Software engineers often employ a technique called test-driven development, where you first define tests, and then write the functions to pass those tests."
     ]
    },
    {
     "cell_type": "markdown",
     "metadata": {},
     "source": [
      "This technique sounds like a great idea, but perhaps not the perfect solution for science and research, where the end-product is often not well defined at the beginning of the project."
     ]
    },
    {
     "cell_type": "markdown",
     "metadata": {},
     "source": [
      "### Continuous integration\n",
      "\n",
      "1.  Make change  \n",
      "2.  Run tests  \n",
      "3.  Make change  \n",
      "4.  Run tests  \n",
      "5.  Make change  \n",
      "6.  ...   \n",
      "\n",
      "\n",
      "See a pattern?  This is absolutely what you should do, but perhaps sometimes you forget to run the tests?  Perhaps you simply ASSUME that the changes were minor and wouldn't affect anything?\n",
      "\n",
      "Additionally, if you are working with colleages or even on multiple machines, can you guarantee that your code will always work with all the different environments?  It is possible, though a pain, to go run the tests on all these different possibilities yourself.\n",
      "\n",
      "Fortunately, there are tools..."
     ]
    },
    {
     "cell_type": "code",
     "collapsed": false,
     "input": [],
     "language": "python",
     "metadata": {},
     "outputs": []
    }
   ],
   "metadata": {}
  }
 ]
}