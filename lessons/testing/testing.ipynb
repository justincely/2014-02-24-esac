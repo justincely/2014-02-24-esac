{
 "metadata": {
  "name": ""
 },
 "nbformat": 3,
 "nbformat_minor": 0,
 "worksheets": [
  {
   "cells": [
    {
     "cell_type": "markdown",
     "metadata": {},
     "source": [
      "# TESTING!\n",
      "\n",
      "1.  Make sure the correct inputs are supplied  \n",
      "2.  Write tests and run against oracles to check output  \n",
      "3.  Automate your testing procedures  \n",
      "4.  Test-driven developement...perhaps test-integrated developement  \n",
      "5.  Continuous integration  "
     ]
    },
    {
     "cell_type": "markdown",
     "metadata": {},
     "source": [
      "### Break early, break often\n",
      "\n",
      "Perhaps the simplest way to \"test\" your code is to place assertions on the state of the code at specific points.  This is often at the beggining or end of a function call."
     ]
    },
    {
     "cell_type": "code",
     "collapsed": false,
     "input": [
      "def double(input):\n",
      "    \"\"\"\"\"\"\n",
      "    #assert type(input) in [float, int], 'Not a number'\n",
      "    #if not isinstance(input, (float, int)):\n",
      "    #    raise ValueError('I only take floats or ints')\n",
      "    return input * 2"
     ],
     "language": "python",
     "metadata": {},
     "outputs": [],
     "prompt_number": 24
    },
    {
     "cell_type": "code",
     "collapsed": false,
     "input": [
      "print double(50)\n",
      "print double('50')"
     ],
     "language": "python",
     "metadata": {},
     "outputs": [
      {
       "output_type": "stream",
       "stream": "stdout",
       "text": [
        "100\n",
        "5050\n"
       ]
      }
     ],
     "prompt_number": 25
    },
    {
     "cell_type": "markdown",
     "metadata": {},
     "source": [
      "### Write testing functions to run sanity checks on your scripts and functions\n",
      "\n",
      "This does require that you take a function programming approach.  Logical bits of code need to be separated and callable by themselves.\n",
      "\n",
      "Lets first try this by writing a simple statement to run two sanity checks against the function.  "
     ]
    },
    {
     "cell_type": "code",
     "collapsed": false,
     "input": [
      "# Let's do a really simple function to check\n",
      "def check_double():\n",
      "    print double(5) == 10\n",
      "    print double(10.5) == 21"
     ],
     "language": "python",
     "metadata": {},
     "outputs": [],
     "prompt_number": 30
    },
    {
     "cell_type": "code",
     "collapsed": false,
     "input": [
      "check_double()"
     ],
     "language": "python",
     "metadata": {},
     "outputs": [
      {
       "output_type": "stream",
       "stream": "stdout",
       "text": [
        "True\n",
        "True\n"
       ]
      }
     ],
     "prompt_number": 31
    },
    {
     "cell_type": "markdown",
     "metadata": {},
     "source": [
      "That works fine, but what about when you have 200 different tests run on different functions?  Do you really want to look through all the input?  Good tests should be simple: they do nothing if everything is fine, and they break when something fails."
     ]
    },
    {
     "cell_type": "code",
     "collapsed": false,
     "input": [
      "# We now do tests as assertion statements\n",
      "def check_double():\n",
      "    assert double(5) == 10\n",
      "    assert double(10.5) == 21"
     ],
     "language": "python",
     "metadata": {},
     "outputs": [],
     "prompt_number": 37
    },
    {
     "cell_type": "code",
     "collapsed": false,
     "input": [
      "check_double()"
     ],
     "language": "python",
     "metadata": {},
     "outputs": [],
     "prompt_number": 38
    },
    {
     "cell_type": "markdown",
     "metadata": {},
     "source": [
      "Perfect! This is the kind of test we want, becuase this is scalable for the user.  No matter how many tests I have, it is exceedingly simple to know if things failed or not; ANY ouput is a failure.\n",
      "\n",
      "Tests in this format let us move on to the pinnacle of testing: automation"
     ]
    },
    {
     "cell_type": "markdown",
     "metadata": {},
     "source": [
      "### Automated teting with the Nose library\n",
      "\n",
      "Nose (because it sniffs out bugs in code) is a library that helps automate testing procedures.  With some simple guidelines for how you write your tests, nose will run things for you.\n",
      "\n",
      "Keys:  \n",
      "1.  Test functions MUST start or end with the string 'test'.  i.e. test_double  \n",
      "2.  Test functions MUST be in a file that starts or ends with the string 'test'.  i.e. test_library.py  \n",
      "3.  Test functions/scripts MUST be either in the current directory, or in directories that contain the string 'test'.  i.e. tests.py  \n",
      "4.  Test functions must either do nothing, which indicates a pass, or break, which indicates a failure.  "
     ]
    },
    {
     "cell_type": "code",
     "collapsed": false,
     "input": [
      "#Something nose-testy"
     ],
     "language": "python",
     "metadata": {},
     "outputs": [],
     "prompt_number": 43
    },
    {
     "cell_type": "markdown",
     "metadata": {},
     "source": [
      "### How to efficiently use testing?\n",
      "\n",
      "Software engineers often employ a technique called test-driven development, where you first define tests, and then write the functions to pass those tests."
     ]
    },
    {
     "cell_type": "markdown",
     "metadata": {},
     "source": [
      "This technique sounds like a great idea, but perhaps not the perfect solution for science and research, where the end-product is often not well defined at the beginning of the project."
     ]
    },
    {
     "cell_type": "markdown",
     "metadata": {},
     "source": [
      "### Continuous integration\n",
      "\n",
      "1.  Make change  \n",
      "2.  Run tests  \n",
      "3.  Make change  \n",
      "4.  Run tests  \n",
      "5.  Make change  \n",
      "6.  ...   \n",
      "\n",
      "\n",
      "See a pattern?  This is absolutely what you should do, but perhaps sometimes you forget to run the tests?  Perhaps you simply ASSUME that the changes were minor and wouldn't affect anything?\n",
      "\n",
      "Additionally, if you are working with colleages or even on multiple machines, can you guarantee that your code will always work with all the different environments?  It is possible, though a pain, to go run the tests on all these different possibilities yourself.\n",
      "\n",
      "Fortunately, there are tools..."
     ]
    },
    {
     "cell_type": "code",
     "collapsed": false,
     "input": [],
     "language": "python",
     "metadata": {},
     "outputs": []
    }
   ],
   "metadata": {}
  }
 ]
}