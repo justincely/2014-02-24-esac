{
 "metadata": {
  "name": ""
 },
 "nbformat": 3,
 "nbformat_minor": 0,
 "worksheets": [
  {
   "cells": [
    {
     "cell_type": "markdown",
     "metadata": {},
     "source": [
      "# Object Oriented Programming (OOP)\n",
      "In Python, EVERYTHING is an object, and this means you can never unlock your full python-potential without a good understanding of how these objects work.\n",
      "\n",
      "Key points:  \n",
      "\n",
      "1.  Everything you program is just bits of code running around.  Nothing, not even integers, are exempt from this rule.  Functions, open file handles, classes can all be passed around to functions just like numbers and strings.  \n",
      "2.  All the fancy things done in python: string.split(), 'key' in dict, even 3 + 4, are all implemented in a class structure.  Additionally, Python gives you the ability to re-implement these as you see fit.  \n",
      "3.  Classes are more complex than the other things you've seen, but once you get the hang of them they are very powerful.  "
     ]
    },
    {
     "cell_type": "markdown",
     "metadata": {},
     "source": [
      "### Our first class, a Star!\n"
     ]
    },
    {
     "cell_type": "code",
     "collapsed": false,
     "input": [
      "import numpy as np"
     ],
     "language": "python",
     "metadata": {},
     "outputs": [],
     "prompt_number": 1
    },
    {
     "cell_type": "code",
     "collapsed": false,
     "input": [
      "# Class definition"
     ],
     "language": "python",
     "metadata": {},
     "outputs": [],
     "prompt_number": 2
    },
    {
     "cell_type": "code",
     "collapsed": false,
     "input": [
      "# We can now invoke our class to create new Star objects.\n",
      "# This is called 'instantiation'\n",
      "\n",
      "# And we can access their 'attributes'\n"
     ],
     "language": "python",
     "metadata": {},
     "outputs": [
      {
       "output_type": "stream",
       "stream": "stdout",
       "text": [
        "Regulus : 300\n",
        "Vega : 600\n"
       ]
      }
     ],
     "prompt_number": 3
    },
    {
     "cell_type": "markdown",
     "metadata": {},
     "source": [
      "### Attributes and Methods\n",
      "\n",
      "**Attributes** are values associated with an object.  They can be strings, ints, floats, dictionaries, etc.  Anything that does NOT need to be called is an attribute.\n",
      "\n",
      "1.  int.real  \n",
      "2.  array.size\n",
      "\n",
      "**Methods** are functions associated with an object.  \n",
      "\n",
      "1.  string.split()\n",
      "2.  list.append()"
     ]
    },
    {
     "cell_type": "code",
     "collapsed": false,
     "input": [
      "# This is exactly the same implementation as in other familiar datatypes\n",
      "\n"
     ],
     "language": "python",
     "metadata": {},
     "outputs": [
      {
       "output_type": "stream",
       "stream": "stdout",
       "text": [
        "5 0\n",
        "20 20\n"
       ]
      }
     ],
     "prompt_number": 4
    },
    {
     "cell_type": "markdown",
     "metadata": {},
     "source": [
      "A note on attributes and classes.  As standard practice, ANY and ALL attributes associated with an object should be defined in the \\_\\_init\\_\\_ statement, and not in associated methods or functions.  As \\_\\_init\\_\\_ is the only function that is guaranteed to execute everytime the class is instantiated, doing this will ensure that every single object created will have the exact same attributes."
     ]
    },
    {
     "cell_type": "markdown",
     "metadata": {},
     "source": [
      "### We've created our first attributes, now let's add a method\n",
      "\n",
      "Methods are mostly the same as a standard function definition, but with a few important differences.  Now, I could use this to brighten a star object..."
     ]
    },
    {
     "cell_type": "code",
     "collapsed": false,
     "input": [
      "# Function to brighten a star\n"
     ],
     "language": "python",
     "metadata": {},
     "outputs": [
      {
       "output_type": "stream",
       "stream": "stdout",
       "text": [
        "600\n",
        "610\n"
       ]
      }
     ],
     "prompt_number": 5
    },
    {
     "cell_type": "markdown",
     "metadata": {},
     "source": [
      "But I don't want to include this in every script I call this in, and it's very specific to this type of object.  So instead, i'll bundle it IN WITH the object itsself...."
     ]
    },
    {
     "cell_type": "markdown",
     "metadata": {},
     "source": [
      "### Excercise:\n",
      "\n",
      "1.  Implement a method to dim the star following the example to brighten it.  \n",
      "2.  Implement a method to move the star's coordinates.  "
     ]
    },
    {
     "cell_type": "markdown",
     "metadata": {},
     "source": [
      "### Now PAUSE!\n",
      "Excercise:  \n",
      "1.  Go back and document the Star object.  The class itself, along with __init__ and all the methods.  "
     ]
    },
    {
     "cell_type": "markdown",
     "metadata": {},
     "source": [
      "### Class \\#2: a Catalog to hold and analyze our stars. \n",
      "1.  Stars are great, but we want a container to hold all of them together.  \n",
      "2.  It will help us to do analysis of the stars they contain.  "
     ]
    },
    {
     "cell_type": "code",
     "collapsed": false,
     "input": [
      "# Catalog class"
     ],
     "language": "python",
     "metadata": {},
     "outputs": [],
     "prompt_number": 7
    },
    {
     "cell_type": "code",
     "collapsed": false,
     "input": [
      "# Instantiate class\n",
      "sss = Catalog( [regulus, vega] )"
     ],
     "language": "python",
     "metadata": {},
     "outputs": [],
     "prompt_number": 8
    },
    {
     "cell_type": "code",
     "collapsed": false,
     "input": [],
     "language": "python",
     "metadata": {},
     "outputs": [
      {
       "output_type": "stream",
       "stream": "stdout",
       "text": [
        "[<__main__.Star object at 0x10272add0>, <__main__.Star object at 0x102739bd0>]\n",
        "The brightest star has a flux of:  Vega at (40,40), flux: 610\n"
       ]
      }
     ],
     "prompt_number": 9
    },
    {
     "cell_type": "markdown",
     "metadata": {},
     "source": [
      "### Excercise:\n",
      "\n",
      "1.  Change the brighest() method to return the actual star object, instead of the flux value.\n",
      "2.  Implement a method to find the dimmest star in the catalog.  \n",
      "3.  Implement a method to return a Star object from the catalog.  This method should take an additional parameter (the star's name) as input  "
     ]
    },
    {
     "cell_type": "code",
     "collapsed": false,
     "input": [],
     "language": "python",
     "metadata": {},
     "outputs": [
      {
       "output_type": "stream",
       "stream": "stdout",
       "text": [
        "Regulus at (20,20), flux: 300\n",
        "Vega at (40,40), flux: 610\n"
       ]
      }
     ],
     "prompt_number": 10
    },
    {
     "cell_type": "markdown",
     "metadata": {},
     "source": [
      "### Now lets be able to add more stars, and find stars by name"
     ]
    },
    {
     "cell_type": "code",
     "collapsed": false,
     "input": [
      "# Method to add a star\n",
      "sss.append( Star('Polaris', 90, 90, 100) )"
     ],
     "language": "python",
     "metadata": {},
     "outputs": [],
     "prompt_number": 12
    },
    {
     "cell_type": "code",
     "collapsed": false,
     "input": [],
     "language": "python",
     "metadata": {},
     "outputs": [
      {
       "metadata": {},
       "output_type": "pyout",
       "prompt_number": 13,
       "text": [
        "[<__main__.Star at 0x10272add0>,\n",
        " <__main__.Star at 0x102739bd0>,\n",
        " <__main__.Star at 0x102739e50>]"
       ]
      }
     ],
     "prompt_number": 13
    },
    {
     "cell_type": "code",
     "collapsed": false,
     "input": [],
     "language": "python",
     "metadata": {},
     "outputs": [
      {
       "output_type": "stream",
       "stream": "stdout",
       "text": [
        "100300\n"
       ]
      }
     ],
     "prompt_number": 14
    },
    {
     "cell_type": "markdown",
     "metadata": {},
     "source": [
      "# Reserved methods\n",
      "So far we have mostly been defining new functions for the objects, now lets implement some of the special, reserved things python does.\n",
      "\n",
      "This is why different python objects react to operators differently.\n",
      "\n",
      "1.  `__iter__` is how python knows to iterate over an object.  \n",
      "2.  `__add__` actually tells what the `+` operator to do.  "
     ]
    },
    {
     "cell_type": "code",
     "collapsed": false,
     "input": [
      "# Implementing an __iter__ function will let us do:\n",
      "\n",
      "    \n",
      "# And:\n"
     ],
     "language": "python",
     "metadata": {},
     "outputs": [],
     "prompt_number": 1
    },
    {
     "cell_type": "code",
     "collapsed": false,
     "input": [
      "# Implementing an __add__ function will let us do:\n"
     ],
     "language": "python",
     "metadata": {},
     "outputs": [],
     "prompt_number": 2
    },
    {
     "cell_type": "markdown",
     "metadata": {},
     "source": [
      "### Excercise:\n",
      "\n",
      "1.  Implement a function that will let you pop remove a Star object using the `-` operator.  `__add__` can be your template, though you will have to make some modifications.  "
     ]
    }
   ],
   "metadata": {}
  }
 ]
}