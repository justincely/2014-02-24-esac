{
 "metadata": {
  "name": ""
 },
 "nbformat": 3,
 "nbformat_minor": 0,
 "worksheets": [
  {
   "cells": [
    {
     "cell_type": "markdown",
     "metadata": {},
     "source": [
      "# Object Oriented Programming (OOP)\n",
      "In Python, EVERYTHING is an object, and this means you can never unlock your full python-potential without a good understanding of how these objects work.\n",
      "\n",
      "Key points:  \n",
      "\n",
      "1.  Everything you program is just bits of code running around.  Nothing, not even integers, are exempt from this rule.  Functions, open file handles, classes can all be passed around to functions just like numbers and strings.  \n",
      "2.  All the fancy things done in python: string.split(), 'key' in dict, even 3 + 4, are all implemented in a class structure.  Additionally, Python gives you the ability to re-implement these as you see fit.  \n",
      "3.  Classes are more complex than the other things you've seen, but once you get the hang of them they are very powerful.  "
     ]
    },
    {
     "cell_type": "markdown",
     "metadata": {},
     "source": [
      "### Our first class, a Star!"
     ]
    },
    {
     "cell_type": "code",
     "collapsed": false,
     "input": [
      "import numpy as np"
     ],
     "language": "python",
     "metadata": {},
     "outputs": [],
     "prompt_number": 161
    },
    {
     "cell_type": "code",
     "collapsed": false,
     "input": [
      "class Star(object):\n",
      "    \"\"\"What am I?\"\"\"\n",
      "    def __init__(self, name, x, y, flux):\n",
      "        self.name = name\n",
      "        self.x = x\n",
      "        self.y = y\n",
      "        self.flux = flux\n",
      "        \n",
      "    def __str__(self):\n",
      "        return \"{} at ({},{}), flux: {}\".format(self.name,\n",
      "                                               self.x,\n",
      "                                               self.y,\n",
      "                                               self.flux)\n",
      "        \n",
      "    def move(self, dx=0, dy=0):\n",
      "        self.x += dx\n",
      "        self.y += dy\n",
      "        \n",
      "    def brighten(self, increase=1):\n",
      "        self.flux += increase\n",
      "    \n",
      "    def dim(self, decrease=1):\n",
      "        self.flux -= decrease\n",
      "        \n",
      "    def distance(self, other):\n",
      "        return np.sqrt( (self.x - other.x)**2 + (self.y - other.y)**2 )"
     ],
     "language": "python",
     "metadata": {},
     "outputs": [],
     "prompt_number": 309
    },
    {
     "cell_type": "code",
     "collapsed": false,
     "input": [
      "# We can now invoke our class to create new Star objects.\n",
      "# This is called 'instantiation'\n",
      "regulus = Star('Regulus', 20, 20, 300)\n",
      "vega = Star('Vega', 40, 40, 600)\n",
      "\n",
      "# And we can access their 'attributes'\n",
      "print regulus.name, ':', regulus.flux\n",
      "print vega.name, ':', vega.flux"
     ],
     "language": "python",
     "metadata": {},
     "outputs": [
      {
       "output_type": "stream",
       "stream": "stdout",
       "text": [
        "Regulus : 300\n",
        "Vega : 600\n"
       ]
      }
     ],
     "prompt_number": 310
    },
    {
     "cell_type": "markdown",
     "metadata": {},
     "source": [
      "### Attributes and Methods\n",
      "\n",
      "**Attributes** are values associated with an object.  They can be strings, ints, floats, dictionaries, etc.  Anything that does NOT need to be called is an attribute.\n",
      "\n",
      "1.  int.real  \n",
      "2.  array.size\n",
      "\n",
      "**Methods** are functions associated with an object.  \n",
      "\n",
      "1.  string.split()\n",
      "2.  list.append()"
     ]
    },
    {
     "cell_type": "code",
     "collapsed": false,
     "input": [
      "# This is exactly the same implementation as in other familiar datatypes\n",
      "x = int(5)  # same thing as x = 5\n",
      "print x.real, x.imag\n",
      "\n",
      "regulus = Star('Regulus', 20, 20, 300)\n",
      "print regulus.x, regulus.y"
     ],
     "language": "python",
     "metadata": {},
     "outputs": [
      {
       "output_type": "stream",
       "stream": "stdout",
       "text": [
        "5 0\n",
        "20 20\n"
       ]
      }
     ],
     "prompt_number": 311
    },
    {
     "cell_type": "markdown",
     "metadata": {},
     "source": [
      "A note on attributes and classes.  As standard practice, ANY and ALL attributes associated with an object should be defined in the \\_\\_init\\_\\_ statement, and not in associated methods or functions.  As \\_\\_init\\_\\_ is the only function that is guaranteed to execute everytime the class is instantiated, doing this will ensure that every single object created will have the exact same attributes."
     ]
    },
    {
     "cell_type": "markdown",
     "metadata": {},
     "source": [
      "### We've created our first attributes, now let's add a method\n",
      "\n",
      "Methods are mostly the same as a standard function definition, but with a few important differences.  Now, I could use this to brighten a star object..."
     ]
    },
    {
     "cell_type": "code",
     "collapsed": false,
     "input": [
      "def brighten(star, increase):\n",
      "    star.flux += increase\n",
      "    \n",
      "print vega.flux\n",
      "brighten(vega, 10)\n",
      "print vega.flux"
     ],
     "language": "python",
     "metadata": {},
     "outputs": [
      {
       "output_type": "stream",
       "stream": "stdout",
       "text": [
        "600\n",
        "610\n"
       ]
      }
     ],
     "prompt_number": 312
    },
    {
     "cell_type": "markdown",
     "metadata": {},
     "source": [
      "But I don't want to include this in every script I call this in, and it's very specific to this type of object.  So instead, i'll bundle it IN WITH the object itsself...."
     ]
    },
    {
     "cell_type": "markdown",
     "metadata": {},
     "source": [
      "### Excercise:\n",
      "\n",
      "1.  Implement a method to dim the star following the example to brighten it.  \n",
      "2.  Implement a method to move the star's coordinates.  "
     ]
    },
    {
     "cell_type": "code",
     "collapsed": false,
     "input": [
      "vega.distance(regulus)"
     ],
     "language": "python",
     "metadata": {},
     "outputs": [
      {
       "metadata": {},
       "output_type": "pyout",
       "prompt_number": 313,
       "text": [
        "28.284271247461902"
       ]
      }
     ],
     "prompt_number": 313
    },
    {
     "cell_type": "markdown",
     "metadata": {},
     "source": [
      "### Now PAUSE!\n",
      "Excercise:  \n",
      "1.  Go back and document the Star object.  The class itself, along with __init__ and all the methods.  "
     ]
    },
    {
     "cell_type": "markdown",
     "metadata": {},
     "source": [
      "### Class \\#2: a Catalog to hold and analyze our stars. \n",
      "1.  Stars are great, but we want a container to hold all of them together.  \n",
      "2.  It will help us to do analysis of the stars they contain.  "
     ]
    },
    {
     "cell_type": "code",
     "collapsed": false,
     "input": [
      "class Catalog(object):\n",
      "    \"\"\"I hold onto a bunch of stars\"\"\"\n",
      "    def __init__(self, input_list):\n",
      "        self.stars = input_list\n",
      "        \n",
      "    def __iter__(self):\n",
      "        for star in self.stars:\n",
      "            yield star\n",
      "    \n",
      "    def __add__(self, star):\n",
      "        self.stars.append(star)\n",
      "        return self\n",
      "    \n",
      "    def brightest(self):\n",
      "        \"\"\"Find the star with the largest flux value\"\"\"\n",
      "        #max_flux = 0\n",
      "        #for star in self.stars:\n",
      "        #    if star.flux > max_flux:\n",
      "        #        max_flux = star.flux       \n",
      "        #return max_flux\n",
      "        \n",
      "        max_star = self.stars[0]\n",
      "        for star in self.stars:\n",
      "            if star.flux > max_star.flux:\n",
      "                max_star = star\n",
      "                \n",
      "        return max_star\n",
      "    \n",
      "    def dimmest(self):\n",
      "        \"\"\"Find the star with the least flux value\"\"\"\n",
      "        #min_flux = self.brightest()\n",
      "        #for star in self.stars:\n",
      "        #    if star.flux < min_flux:\n",
      "        #        min_flux = star.flux\n",
      "                \n",
      "        #return min_flux\n",
      "    \n",
      "        min_star = self.stars[0]\n",
      "        for star in self.stars:\n",
      "            if star.flux < min_star.flux:\n",
      "                min_star = star\n",
      "                \n",
      "        return min_star\n",
      "    \n",
      "    def find(self, starname):\n",
      "        for star in self.stars:\n",
      "            if star.name == starname:\n",
      "                return star\n",
      "        return None\n",
      "    \n",
      "    def append(self, star):\n",
      "        self.stars.append(star)\n",
      "    \n",
      "    def distribution(self, bins=10):\n",
      "        \"\"\"plot distribution of fluxes\"\"\"\n",
      "        return np.histogram( [star.flux for star in self.stars], bins=bins )"
     ],
     "language": "python",
     "metadata": {},
     "outputs": [],
     "prompt_number": 314
    },
    {
     "cell_type": "code",
     "collapsed": false,
     "input": [
      "sss = Catalog( [regulus, vega] )"
     ],
     "language": "python",
     "metadata": {},
     "outputs": [],
     "prompt_number": 315
    },
    {
     "cell_type": "code",
     "collapsed": false,
     "input": [
      "print sss.stars\n",
      "print 'The brightest star has a flux of: ', sss.brightest()"
     ],
     "language": "python",
     "metadata": {},
     "outputs": [
      {
       "output_type": "stream",
       "stream": "stdout",
       "text": [
        "[<__main__.Star object at 0x104030710>, <__main__.Star object at 0x104030750>]\n",
        "The brightest star has a flux of:  Vega at (40,40), flux: 610\n"
       ]
      }
     ],
     "prompt_number": 316
    },
    {
     "cell_type": "markdown",
     "metadata": {},
     "source": [
      "### Excercise:\n",
      "\n",
      "1.  Change the brighest() method to return the actual star object, instead of the flux value.\n",
      "2.  Implement a method to find the dimmest star in the catalog.  \n",
      "3.  Implement a method to return a Star object from the catalog.  This method should take an additional parameter (the star's name) as input  "
     ]
    },
    {
     "cell_type": "code",
     "collapsed": false,
     "input": [
      "print sss.dimmest()\n",
      "print sss.brightest()"
     ],
     "language": "python",
     "metadata": {},
     "outputs": [
      {
       "output_type": "stream",
       "stream": "stdout",
       "text": [
        "Regulus at (20,20), flux: 300\n",
        "Vega at (40,40), flux: 610\n"
       ]
      }
     ],
     "prompt_number": 321
    },
    {
     "cell_type": "code",
     "collapsed": false,
     "input": [
      "print sss.stars[0]\n",
      "print sss.stars[0].flux\n",
      "\n",
      "sss.stars[0].brighten(100000)\n",
      "print sss.stars[0].flux"
     ],
     "language": "python",
     "metadata": {},
     "outputs": [
      {
       "output_type": "stream",
       "stream": "stdout",
       "text": [
        "Regulus\n",
        "20600\n",
        "120600\n"
       ]
      }
     ],
     "prompt_number": 261
    },
    {
     "cell_type": "markdown",
     "metadata": {},
     "source": [
      "### Now lets be able to add more stars, and find stars by name"
     ]
    },
    {
     "cell_type": "code",
     "collapsed": false,
     "input": [
      "sss.append( Star('Polaris', 90, 90, 100) )"
     ],
     "language": "python",
     "metadata": {},
     "outputs": [],
     "prompt_number": 235
    },
    {
     "cell_type": "code",
     "collapsed": false,
     "input": [
      "sss.stars"
     ],
     "language": "python",
     "metadata": {},
     "outputs": [
      {
       "metadata": {},
       "output_type": "pyout",
       "prompt_number": 265,
       "text": [
        "[Regulus, Vega, Polaris, Sun, Sun]"
       ]
      }
     ],
     "prompt_number": 265
    },
    {
     "cell_type": "code",
     "collapsed": false,
     "input": [
      "star = sss.find('Regulus')\n",
      "print star.flux"
     ],
     "language": "python",
     "metadata": {},
     "outputs": [
      {
       "output_type": "stream",
       "stream": "stdout",
       "text": [
        "300\n"
       ]
      }
     ],
     "prompt_number": 237
    },
    {
     "cell_type": "markdown",
     "metadata": {},
     "source": [
      "# Reserved methods\n",
      "So far we have mostly been defining new functions for the objects, now lets implement some of the special, reserved things python does.\n",
      "\n",
      "1.  `__iter__` is how python knows to iterate over an object.  \n",
      "2.  `__add__` actually tells what the `+` operator to do.  "
     ]
    },
    {
     "cell_type": "code",
     "collapsed": false,
     "input": [
      "# Implementing an __iter__ function will let us do:\n",
      "for star in sss:\n",
      "    print star.name\n",
      "    \n",
      "# And:\n",
      "print\n",
      "print vega in sss"
     ],
     "language": "python",
     "metadata": {},
     "outputs": [
      {
       "output_type": "stream",
       "stream": "stdout",
       "text": [
        "Regulus\n",
        "Vega\n",
        "\n",
        "True\n"
       ]
      }
     ],
     "prompt_number": 325
    },
    {
     "cell_type": "code",
     "collapsed": false,
     "input": [
      "# Implementing an __add__ function will let us do:\n",
      "print 'Before:', [star.name for star in sss]\n",
      "sss += Star('Sun', 0, 0, 40000)\n",
      "print 'After:', [star.name for star in sss]"
     ],
     "language": "python",
     "metadata": {},
     "outputs": [
      {
       "output_type": "stream",
       "stream": "stdout",
       "text": [
        "Before: ['Regulus', 'Vega', 'Sun', 'Sun', 'Sun']\n",
        "After: ['Regulus', 'Vega', 'Sun', 'Sun', 'Sun', 'Sun']\n"
       ]
      }
     ],
     "prompt_number": 329
    },
    {
     "cell_type": "markdown",
     "metadata": {},
     "source": [
      "### Excercise:\n",
      "\n",
      "1.  Implement a function that will let you pop remove a Star object using the `-` operator.  `__add__` can be your template, though you will have to make some modifications.  "
     ]
    }
   ],
   "metadata": {}
  }
 ]
}