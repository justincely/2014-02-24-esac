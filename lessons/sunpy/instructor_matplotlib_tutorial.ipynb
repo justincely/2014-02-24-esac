{
 "metadata": {
  "name": ""
 },
 "nbformat": 3,
 "nbformat_minor": 0,
 "worksheets": [
  {
   "cells": [
    {
     "cell_type": "heading",
     "level": 1,
     "metadata": {},
     "source": [
      "Plotting with Python: `matplotlib`"
     ]
    },
    {
     "cell_type": "markdown",
     "metadata": {
      "slideshow": {
       "slide_type": "slide"
      }
     },
     "source": [
      "##A Quick Overview\n",
      "\n",
      "1. Line plotting\n",
      "1. Object Plotting interface\n",
      "1. Plotting images (Also a super quick FITS read example)"
     ]
    },
    {
     "cell_type": "markdown",
     "metadata": {},
     "source": [
      "First things first, get this data downloading:\n",
      "\n",
      "Either run it here or in a seperate terminal."
     ]
    },
    {
     "cell_type": "code",
     "collapsed": false,
     "input": [
      "!wget http://sunpy.cadair.com/data/h_n4571_f555_mosaic.fits"
     ],
     "language": "python",
     "metadata": {},
     "outputs": []
    },
    {
     "cell_type": "heading",
     "level": 2,
     "metadata": {
      "slideshow": {
       "slide_type": "slide"
      }
     },
     "source": [
      "1. Plotting with matplotlib"
     ]
    },
    {
     "cell_type": "code",
     "collapsed": false,
     "input": [],
     "language": "python",
     "metadata": {
      "slideshow": {
       "slide_type": "subslide"
      }
     },
     "outputs": []
    },
    {
     "cell_type": "code",
     "collapsed": false,
     "input": [],
     "language": "python",
     "metadata": {
      "slideshow": {
       "slide_type": "subslide"
      }
     },
     "outputs": []
    },
    {
     "cell_type": "code",
     "collapsed": false,
     "input": [],
     "language": "python",
     "metadata": {
      "slideshow": {
       "slide_type": "subslide"
      }
     },
     "outputs": []
    },
    {
     "cell_type": "markdown",
     "metadata": {},
     "source": [
      "For a summary list of all `matplotlib` plotting functions click [here.](http://matplotlib.org/api/pyplot_summary.html)"
     ]
    },
    {
     "cell_type": "heading",
     "level": 3,
     "metadata": {},
     "source": [
      "Detailed plotting, using objects"
     ]
    },
    {
     "cell_type": "code",
     "collapsed": false,
     "input": [],
     "language": "python",
     "metadata": {},
     "outputs": []
    },
    {
     "cell_type": "code",
     "collapsed": false,
     "input": [],
     "language": "python",
     "metadata": {},
     "outputs": []
    },
    {
     "cell_type": "heading",
     "level": 3,
     "metadata": {},
     "source": [
      "Exercise 1:"
     ]
    },
    {
     "cell_type": "markdown",
     "metadata": {},
     "source": [
      "Plot two curves on one pair of axes, one plotting $\\sin(x)$ and one showing $\\cos(x)$ for $0 \\le x \\le 6\\pi$."
     ]
    },
    {
     "cell_type": "markdown",
     "metadata": {},
     "source": [
      "For bonus points try the following:\n",
      "\n",
      "* Make each of the lines different colours you choose.\n",
      "* Use LaTeX to label the axes.\n",
      "* Create a legend showing which colour is which curve.\n",
      "* Add extra out of phase sine waves."
     ]
    },
    {
     "cell_type": "markdown",
     "metadata": {},
     "source": [
      "####Useful Documentation:\n",
      "\n",
      "* [`axes` [`ax`]](http://matplotlib.org/api/axes_api.html)\n",
      "* [`ax.plot()`](http://matplotlib.org/api/axes_api.html#matplotlib.axes.Axes.plot)\n",
      "* [`ax.legend()`](http://matplotlib.org/api/axes_api.html#matplotlib.axes.Axes.legend)\n",
      "* [`matpltolib.pyplot`](http://matplotlib.org/api/pyplot_api.html)"
     ]
    },
    {
     "cell_type": "heading",
     "level": 3,
     "metadata": {},
     "source": [
      "Solution:"
     ]
    },
    {
     "cell_type": "code",
     "collapsed": true,
     "input": [],
     "language": "python",
     "metadata": {},
     "outputs": []
    },
    {
     "cell_type": "heading",
     "level": 3,
     "metadata": {},
     "source": [
      "Generic FITS reading and Plotting Images"
     ]
    },
    {
     "cell_type": "heading",
     "level": 4,
     "metadata": {},
     "source": [
      "FITS Read:"
     ]
    },
    {
     "cell_type": "code",
     "collapsed": false,
     "input": [],
     "language": "python",
     "metadata": {},
     "outputs": []
    },
    {
     "cell_type": "code",
     "collapsed": false,
     "input": [],
     "language": "python",
     "metadata": {},
     "outputs": []
    },
    {
     "cell_type": "code",
     "collapsed": false,
     "input": [],
     "language": "python",
     "metadata": {},
     "outputs": []
    },
    {
     "cell_type": "code",
     "collapsed": false,
     "input": [],
     "language": "python",
     "metadata": {},
     "outputs": []
    },
    {
     "cell_type": "code",
     "collapsed": false,
     "input": [],
     "language": "python",
     "metadata": {},
     "outputs": []
    },
    {
     "cell_type": "markdown",
     "metadata": {},
     "source": [
      "For more information on FITS I/O read the [Astropy Documentation](http://docs.astropy.org/en/stable/io/fits/index.html)."
     ]
    },
    {
     "cell_type": "heading",
     "level": 4,
     "metadata": {},
     "source": [
      "Plotting Images"
     ]
    },
    {
     "cell_type": "code",
     "collapsed": false,
     "input": [],
     "language": "python",
     "metadata": {},
     "outputs": []
    },
    {
     "cell_type": "markdown",
     "metadata": {},
     "source": [
      "There is actually a picture of a barred spiral Galaxy ([NGC 4571](http://en.wikipedia.org/wiki/NGC_4571)) in here, however the colormap and the scaling is really bad."
     ]
    },
    {
     "cell_type": "markdown",
     "metadata": {},
     "source": [
      "####Some things to know about `plt.imshow()`:\n",
      "\n",
      "1. The origin is at the top (unless you change the defaults):\n",
      "   Use `origin='lower'` to set it as the bottom.\n",
      "\n",
      "1. By default it might interpolate images (depending on the defaults):\n",
      "   Set `interpolation='none'` to be more accurate.\n",
      "   \n",
      "1. Use `extent=[xmin, xmax, ymin, ymax]` to set axis limits.\n",
      "\n",
      "1. Use `cmap='a_cmap_here'` to get a [better colour map.](http://wiki.scipy.org/Cookbook/Matplotlib/Show_colormaps)"
     ]
    },
    {
     "cell_type": "heading",
     "level": 3,
     "metadata": {},
     "source": [
      "Exercise 2:"
     ]
    },
    {
     "cell_type": "markdown",
     "metadata": {},
     "source": [
      "Plot a better version of the image with no interpolation, the origin at the bottom, a colour map of your choice ('gray' is good) with a colour bar for a scale and scale the image between $110$ and $1300$ for good contrast. See the [`imshow`](http://matplotlib.org/api/pyplot_api.html#matplotlib.pyplot.imshow) docs for arguments to `imshow()` and [`colorbar()`](http://matplotlib.org/api/pyplot_api.html#matplotlib.pyplot.colorbar) docs for how to plot colour bars."
     ]
    },
    {
     "cell_type": "heading",
     "level": 3,
     "metadata": {},
     "source": [
      "Solution:"
     ]
    },
    {
     "cell_type": "code",
     "collapsed": false,
     "input": [],
     "language": "python",
     "metadata": {},
     "outputs": []
    },
    {
     "cell_type": "markdown",
     "metadata": {},
     "source": [
      "There are many many more things you can do with matplotlib, I have covered the object API because it fits a little better with SunPy than the `pyplot` API. You can see lots of examples [here](http://matplotlib.org/examples/). There are also solar colour maps in SunPy: http://docs.sunpy.org/en/stable/guide/plotting.html#specifying-a-colormap"
     ]
    }
   ],
   "metadata": {}
  }
 ]
}