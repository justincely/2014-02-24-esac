{
 "metadata": {
  "name": ""
 },
 "nbformat": 3,
 "nbformat_minor": 0,
 "worksheets": [
  {
   "cells": [
    {
     "cell_type": "markdown",
     "metadata": {
      "slideshow": {
       "slide_type": "slide"
      }
     },
     "source": [
      "#SunPy: Python for Solar Physics\n",
      "<img style=\"width:100%;\" src=\"https://raw.github.com/sunpy/sunpy-logo/master/generated/sunpy_logo_long_800x380.png\">"
     ]
    },
    {
     "cell_type": "markdown",
     "metadata": {
      "slideshow": {
       "slide_type": "slide"
      }
     },
     "source": [
      "##A Quick Overview\n",
      "\n",
      "1. Loading and plotting images in SunPy\n",
      "1. Loading and plotting timeseries in SunPy"
     ]
    },
    {
     "cell_type": "markdown",
     "metadata": {},
     "source": [
      "First things first again, get this data downloading:"
     ]
    },
    {
     "cell_type": "code",
     "collapsed": false,
     "input": [
      "!wget http://sunpy.cadair.com/data/aia_lev1_171a_2014_01_01t00_02_23_34z_image_lev1_fits.fits"
     ],
     "language": "python",
     "metadata": {},
     "outputs": []
    },
    {
     "cell_type": "markdown",
     "metadata": {},
     "source": [
      "#1. Solar Images with SunPy\n",
      "\n",
      "SunPy has a `Map` type that supports 2D images, it makes it simple to read data in from any filetype supported in `sunpy.io` which is currently FITS, JPEG2000 and ANA files. You can also create maps from any `(data, metadata)` pair.\n",
      "\n",
      "SunPy contains a few test data files, under the `sunpy` namespace:\n",
      "\n",
      "* `sunpy.AIA_171_IMAGE`\n",
      "* `sunpy.CALLISTO_IMAGE`\n",
      "* `sunpy.EIT_195_IMAGE`\n",
      "* `sunpy.RHESSI_EVENT_LIST`\n",
      "* `sunpy.RHESSI_IMAGE`\n",
      "\n",
      "These are all just links to FITS files contained in the SunPy distribution."
     ]
    },
    {
     "cell_type": "code",
     "collapsed": false,
     "input": [],
     "language": "python",
     "metadata": {},
     "outputs": []
    },
    {
     "cell_type": "code",
     "collapsed": false,
     "input": [],
     "language": "python",
     "metadata": {},
     "outputs": []
    },
    {
     "cell_type": "markdown",
     "metadata": {},
     "source": [
      "Maps contain both the image data and the metadata associated with the image, this metadata currently does not deviate much from the standard FITS WCS keywords, but presented in a instrument-independant manner."
     ]
    },
    {
     "cell_type": "heading",
     "level": 2,
     "metadata": {},
     "source": [
      "Plotting Maps"
     ]
    },
    {
     "cell_type": "markdown",
     "metadata": {},
     "source": [
      "###1. The quick way\n",
      "\n",
      "Most SunPy datatypes have a 'quick view' method called `peek()` which returns a `Figure` object and presents an overview of the data. "
     ]
    },
    {
     "cell_type": "code",
     "collapsed": false,
     "input": [],
     "language": "python",
     "metadata": {},
     "outputs": []
    },
    {
     "cell_type": "markdown",
     "metadata": {},
     "source": [
      "###2. The powerful way\n",
      "\n",
      "All SunPy datatypes have a `plot()` method that integrates with matplotlib in a way that allows you to customise your plot."
     ]
    },
    {
     "cell_type": "code",
     "collapsed": false,
     "input": [],
     "language": "python",
     "metadata": {},
     "outputs": []
    },
    {
     "cell_type": "markdown",
     "metadata": {},
     "source": [
      "##Using Maps\n",
      "Commonly used meta data and data manipulation methods are part of the map class, below I highlight a couple. To see the full features of `Map` look at the `GenericMap` [documentation.](http://docs.sunpy.org/en/stable/api/sunpy.map.mapbase.GenericMap.html#sunpy.map.mapbase.GenericMap)"
     ]
    },
    {
     "cell_type": "markdown",
     "metadata": {},
     "source": [
      "First we read in a Level 1 AIA image:"
     ]
    },
    {
     "cell_type": "code",
     "collapsed": false,
     "input": [],
     "language": "python",
     "metadata": {},
     "outputs": []
    },
    {
     "cell_type": "code",
     "collapsed": false,
     "input": [],
     "language": "python",
     "metadata": {},
     "outputs": []
    },
    {
     "cell_type": "markdown",
     "metadata": {},
     "source": [
      "The properties of the map provide a standard way of reading meta data. For instance the pixel scale can be accessed with the `.scale` attribute:"
     ]
    },
    {
     "cell_type": "code",
     "collapsed": false,
     "input": [],
     "language": "python",
     "metadata": {},
     "outputs": []
    },
    {
     "cell_type": "markdown",
     "metadata": {},
     "source": [
      "It is also possible to rotate and rescale an image:"
     ]
    },
    {
     "cell_type": "code",
     "collapsed": false,
     "input": [],
     "language": "python",
     "metadata": {},
     "outputs": []
    },
    {
     "cell_type": "code",
     "collapsed": false,
     "input": [],
     "language": "python",
     "metadata": {},
     "outputs": []
    },
    {
     "cell_type": "markdown",
     "metadata": {},
     "source": [
      "Warning, this method will not change the meta data:"
     ]
    },
    {
     "cell_type": "code",
     "collapsed": false,
     "input": [],
     "language": "python",
     "metadata": {},
     "outputs": []
    },
    {
     "cell_type": "heading",
     "level": 3,
     "metadata": {},
     "source": [
      "Exercise 3:"
     ]
    },
    {
     "cell_type": "markdown",
     "metadata": {},
     "source": [
      "Using [`map.submap()`](http://docs.sunpy.org/en/stable/api/sunpy.map.mapbase.GenericMap.html#sunpy.map.mapbase.GenericMap.submap) cut out an active region of your choice, over plot a lon/lat grid at a sutible resolution depending on your box size and rescale the image limits when you plot the output with a colour bar."
     ]
    },
    {
     "cell_type": "heading",
     "level": 3,
     "metadata": {},
     "source": [
      "Solution:"
     ]
    },
    {
     "cell_type": "code",
     "collapsed": false,
     "input": [],
     "language": "python",
     "metadata": {},
     "outputs": []
    },
    {
     "cell_type": "code",
     "collapsed": false,
     "input": [],
     "language": "python",
     "metadata": {},
     "outputs": []
    },
    {
     "cell_type": "heading",
     "level": 2,
     "metadata": {},
     "source": [
      "2. Timeseries and Lightcurves"
     ]
    },
    {
     "cell_type": "markdown",
     "metadata": {},
     "source": [
      "SunPy supports many different sources of time series data via the `Lightcurve` data type. Currently, the `LightCurve` class is compatible with the following data sources: the *GOES* X-ray Sensor (XRS), *PROBA2*/LYRA, and *SDO*/EVE"
     ]
    },
    {
     "cell_type": "markdown",
     "metadata": {},
     "source": [
      "The first `Lightcurve` we are going to create is for 1st January 2014 from the *GOES* XRS instrument."
     ]
    },
    {
     "cell_type": "code",
     "collapsed": false,
     "input": [],
     "language": "python",
     "metadata": {},
     "outputs": []
    },
    {
     "cell_type": "code",
     "collapsed": false,
     "input": [],
     "language": "python",
     "metadata": {},
     "outputs": []
    },
    {
     "cell_type": "code",
     "collapsed": false,
     "input": [],
     "language": "python",
     "metadata": {},
     "outputs": []
    },
    {
     "cell_type": "markdown",
     "metadata": {},
     "source": [
      "Currently there is not a huge amount of functionality actually in the `Lightcurve` object, the power of `Lightcurve` comes from the `pandas` `DataFrame` stored in the `Lightcurve`."
     ]
    },
    {
     "cell_type": "code",
     "collapsed": false,
     "input": [],
     "language": "python",
     "metadata": {},
     "outputs": []
    },
    {
     "cell_type": "markdown",
     "metadata": {},
     "source": [
      "If we want to just plot the $0.5$ - $4.0$ A or the `'A_FLUX'` column we can do this:"
     ]
    },
    {
     "cell_type": "code",
     "collapsed": false,
     "input": [],
     "language": "python",
     "metadata": {},
     "outputs": []
    },
    {
     "cell_type": "markdown",
     "metadata": {},
     "source": [
      "To customise this plot you can specify lot's of arguments to the `pandas DataFrame .plot()` method, which is described [here.](http://pandas.pydata.org/pandas-docs/stable/generated/pandas.DataFrame.plot.html)"
     ]
    },
    {
     "cell_type": "heading",
     "level": 3,
     "metadata": {},
     "source": [
      "Exercise 4:"
     ]
    },
    {
     "cell_type": "markdown",
     "metadata": {},
     "source": [
      "Create a new `LightCurve` object for the same day in January, but this time using the *SDO*/EVE instrument. Use [`EVELightcurve`.](http://docs.sunpy.org/en/stable/api/sunpy.lightcurve.sources.eve.EVELightCurve.html#sunpy.lightcurve.sources.eve.EVELightCurve) Pay special attention to the parameters accepted by the EVE `.create()` method.\n",
      "\n",
      "Once you have the lightcurve, plot it and explore the data contained in the [`pandas DataFrame`.](http://pandas.pydata.org/pandas-docs/stable/generated/pandas.DataFrame.html#pandas.DataFrame) Then plot the $17.1$ channel on it's own."
     ]
    },
    {
     "cell_type": "heading",
     "level": 3,
     "metadata": {},
     "source": [
      "Solution:"
     ]
    },
    {
     "cell_type": "code",
     "collapsed": false,
     "input": [],
     "language": "python",
     "metadata": {},
     "outputs": []
    },
    {
     "cell_type": "code",
     "collapsed": false,
     "input": [],
     "language": "python",
     "metadata": {},
     "outputs": []
    },
    {
     "cell_type": "code",
     "collapsed": false,
     "input": [],
     "language": "python",
     "metadata": {},
     "outputs": []
    },
    {
     "cell_type": "markdown",
     "metadata": {},
     "source": [
      "We can see that the missing data in this file hasn't been properly removed. (This is probably a bug in `EVELightCurve`). We can check the header:"
     ]
    },
    {
     "cell_type": "code",
     "collapsed": false,
     "input": [],
     "language": "python",
     "metadata": {},
     "outputs": []
    },
    {
     "cell_type": "markdown",
     "metadata": {},
     "source": [
      "We can now use pandas to convert the missing data to NaN:"
     ]
    },
    {
     "cell_type": "code",
     "collapsed": false,
     "input": [],
     "language": "python",
     "metadata": {},
     "outputs": []
    },
    {
     "cell_type": "code",
     "collapsed": false,
     "input": [],
     "language": "python",
     "metadata": {},
     "outputs": []
    },
    {
     "cell_type": "code",
     "collapsed": false,
     "input": [],
     "language": "python",
     "metadata": {},
     "outputs": []
    },
    {
     "cell_type": "markdown",
     "metadata": {},
     "source": [
      "Which is much nicer!!"
     ]
    },
    {
     "cell_type": "heading",
     "level": 4,
     "metadata": {},
     "source": [
      "Exercise 5:"
     ]
    },
    {
     "cell_type": "markdown",
     "metadata": {},
     "source": [
      "Using `matplotlib` plot both the $17.1$nm EUV flux and the GOES X-ray flux on the same graph.\n",
      "\n",
      "Hints/Bonuses:\n",
      "\n",
      "* The timeseries data in a Pandas DataFrame is held in the `.index` attribute, use this as the x axis for your plots.\n",
      "* [`plt.twinx`](http://matplotlib.org/api/pyplot_api.html#matplotlib.pyplot.twinx) will give you two independant scales using the same x axis.\n",
      "* Plot a legend.\n",
      "* Use [`fig.autofmt_xdate()`](http://matplotlib.org/api/figure_api.html#matplotlib.figure.Figure.autofmt_xdate) to magically format temporal x axis better.\n",
      "* Use [`ax.semilogy()`](http://matplotlib.org/api/axes_api.html#matplotlib.axes.Axes.semilogy) to set the GOES axis to a log y scale."
     ]
    },
    {
     "cell_type": "heading",
     "level": 4,
     "metadata": {},
     "source": [
      "Solution:"
     ]
    },
    {
     "cell_type": "code",
     "collapsed": false,
     "input": [],
     "language": "python",
     "metadata": {},
     "outputs": []
    }
   ],
   "metadata": {}
  }
 ]
}