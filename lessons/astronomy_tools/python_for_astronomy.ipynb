{
 "metadata": {
  "name": "python_for_astronomy"
 },
 "nbformat": 3,
 "nbformat_minor": 0,
 "worksheets": [
  {
   "cells": [
    {
     "cell_type": "markdown",
     "metadata": {},
     "source": [
      "##Fits Binary Tables"
     ]
    },
    {
     "cell_type": "code",
     "collapsed": false,
     "input": [
      "from astropy.io import fits\n",
      "#Open the file\n",
      "ofile = fits.open('lbp507070_x1dsum.fits')\n",
      "#get header\n",
      "hdr1 = ofile[1].header\n",
      "#get data\n",
      "tbdata = ofile[1].data"
     ],
     "language": "python",
     "metadata": {},
     "outputs": [],
     "prompt_number": 22
    },
    {
     "cell_type": "markdown",
     "metadata": {},
     "source": [
      "##Astropy Time Module"
     ]
    },
    {
     "cell_type": "code",
     "collapsed": false,
     "input": [
      "from astropy.time import Time"
     ],
     "language": "python",
     "metadata": {},
     "outputs": [],
     "prompt_number": 23
    },
    {
     "cell_type": "markdown",
     "metadata": {},
     "source": [
      "**Convert header mjd to human readable and back again**"
     ]
    },
    {
     "cell_type": "code",
     "collapsed": false,
     "input": [
      "#Create a time object\n",
      "expstart = hdr1['expstart']\n",
      "expstart_time_obj = Time(expstart, format = 'mjd', scale = 'utc')\n",
      "print expstart_time_obj.iso\n",
      "print expstart_time_obj.yday"
     ],
     "language": "python",
     "metadata": {},
     "outputs": [
      {
       "output_type": "stream",
       "stream": "stdout",
       "text": [
        "2012-07-25 00:42:11.398\n",
        "2012:207:00:42:11.398\n"
       ]
      }
     ],
     "prompt_number": 24
    },
    {
     "cell_type": "code",
     "collapsed": false,
     "input": [
      "#Go the other way\n",
      "new_time = Time('2014-02-25', format = 'iso', scale = 'utc')\n",
      "print new_time.yday\n",
      "print new_time.mjd"
     ],
     "language": "python",
     "metadata": {},
     "outputs": [
      {
       "output_type": "stream",
       "stream": "stdout",
       "text": [
        "2014:056:00:00:00.000\n",
        "56713.0\n"
       ]
      }
     ],
     "prompt_number": 25
    },
    {
     "cell_type": "markdown",
     "metadata": {},
     "source": [
      "###EXERCISE 1:\n",
      "Convert the EXPEND keyword to a human readable"
     ]
    },
    {
     "cell_type": "code",
     "collapsed": false,
     "input": [
      "#Solution\n",
      "Time(hdr1['expend'], format = 'mjd', scale = 'utc').iso"
     ],
     "language": "python",
     "metadata": {},
     "outputs": [
      {
       "output_type": "pyout",
       "prompt_number": 26,
       "text": [
        "'2012-07-25 02:07:21.382'"
       ]
      }
     ],
     "prompt_number": 26
    },
    {
     "cell_type": "markdown",
     "metadata": {},
     "source": [
      "**Find out about your table**"
     ]
    },
    {
     "cell_type": "code",
     "collapsed": false,
     "input": [
      "tbdata.columns"
     ],
     "language": "python",
     "metadata": {},
     "outputs": [
      {
       "output_type": "pyout",
       "prompt_number": 27,
       "text": [
        "ColDefs(\n",
        "    name = 'SEGMENT'; format = '4A'\n",
        "    name = 'EXPTIME'; format = 'D'; unit = 's'; disp = 'F8.3'\n",
        "    name = 'NELEM'; format = 'J'; disp = 'I6'\n",
        "    name = 'WAVELENGTH'; format = '16384D'; unit = 'angstrom'\n",
        "    name = 'FLUX'; format = '16384E'; unit = 'erg /s /cm**2 /angstrom'\n",
        "    name = 'ERROR'; format = '16384E'; unit = 'erg /s /cm**2 /angstrom'\n",
        "    name = 'GROSS'; format = '16384E'; unit = 'count /s'\n",
        "    name = 'GCOUNTS'; format = '16384E'; unit = 'count'\n",
        "    name = 'NET'; format = '16384E'; unit = 'count /s'\n",
        "    name = 'BACKGROUND'; format = '16384E'; unit = 'count /s'\n",
        "    name = 'DQ'; format = '16384I'\n",
        "    name = 'DQ_WGT'; format = '16384E'\n",
        ")"
       ]
      }
     ],
     "prompt_number": 27
    },
    {
     "cell_type": "markdown",
     "metadata": {},
     "source": [
      "**Plot the Spectrum**"
     ]
    },
    {
     "cell_type": "code",
     "collapsed": false,
     "input": [
      "from matplotlib import pyplot"
     ],
     "language": "python",
     "metadata": {},
     "outputs": [],
     "prompt_number": 28
    },
    {
     "cell_type": "code",
     "collapsed": false,
     "input": [
      "fig = pyplot.figure(1)\n",
      "ax = pyplot.subplot(111)\n",
      "ax.plot(tbdata['wavelength'][1], tbdata['flux'][1])"
     ],
     "language": "python",
     "metadata": {},
     "outputs": [
      {
       "output_type": "pyout",
       "prompt_number": 29,
       "text": [
        "[<matplotlib.lines.Line2D at 0x107fc4750>]"
       ]
      },
      {
       "output_type": "display_data",
       "png": "[encoded data removed]"
      }
     ],
     "prompt_number": 29
    },
    {
     "cell_type": "markdown",
     "metadata": {},
     "source": [
      "**2 ways to select data**"
     ]
    },
    {
     "cell_type": "code",
     "collapsed": false,
     "input": [
      "wave = tbdata['wavelength'][1]\n",
      "flux = tbdata['flux'][1]\n",
      "print wave > 1412\n"
     ],
     "language": "python",
     "metadata": {},
     "outputs": [
      {
       "output_type": "stream",
       "stream": "stdout",
       "text": [
        "[False False False ...,  True  True  True]\n"
       ]
      }
     ],
     "prompt_number": 30
    },
    {
     "cell_type": "code",
     "collapsed": false,
     "input": [
      "continuum_wave = wave[(wave > 1412) & (wave < 1540)]\n",
      "continuum_flux = flux[(wave > 1412) & (wave < 1540)]\n",
      "pyplot.plot(continuum_wave, continuum_flux)"
     ],
     "language": "python",
     "metadata": {},
     "outputs": [
      {
       "output_type": "pyout",
       "prompt_number": 31,
       "text": [
        "[<matplotlib.lines.Line2D at 0x10a6f0ad0>]"
       ]
      },
      {
       "output_type": "display_data",
       "png": "[encoded data removed]"
      }
     ],
     "prompt_number": 31
    },
    {
     "cell_type": "markdown",
     "metadata": {},
     "source": [
      "**or**"
     ]
    },
    {
     "cell_type": "code",
     "collapsed": false,
     "input": [
      "indx = np.where((wave > 1412) & (wave < 1540))\n",
      "print indx"
     ],
     "language": "python",
     "metadata": {},
     "outputs": [
      {
       "output_type": "stream",
       "stream": "stdout",
       "text": [
        "(array([ 3064,  3065,  3066, ..., 13522, 13523, 13524]),)\n"
       ]
      }
     ],
     "prompt_number": 32
    },
    {
     "cell_type": "code",
     "collapsed": false,
     "input": [
      "pyplot.plot(wave[indx], flux[indx])"
     ],
     "language": "python",
     "metadata": {},
     "outputs": [
      {
       "output_type": "pyout",
       "prompt_number": 33,
       "text": [
        "[<matplotlib.lines.Line2D at 0x10a89fc50>]"
       ]
      },
      {
       "output_type": "display_data",
       "png": "[encoded data removed]"
      }
     ],
     "prompt_number": 33
    },
    {
     "cell_type": "markdown",
     "metadata": {},
     "source": [
      "###EXERCISE 2:\n",
      "1. Label your axes and give your plot a title\n",
      "2. Find the mean continuum value"
     ]
    },
    {
     "cell_type": "code",
     "collapsed": false,
     "input": [
      "np.mean(continuum_flux)"
     ],
     "language": "python",
     "metadata": {},
     "outputs": [
      {
       "output_type": "pyout",
       "prompt_number": 34,
       "text": [
        "1.2605791e-13"
       ]
      }
     ],
     "prompt_number": 34
    },
    {
     "cell_type": "markdown",
     "metadata": {},
     "source": [
      "###Sidenote: Other Useful Numpy"
     ]
    },
    {
     "cell_type": "code",
     "collapsed": false,
     "input": [
      "#Create a 2D array\n",
      "toy_array = np.ones((10, 10))*np.arange(10)\n",
      "print toy_array"
     ],
     "language": "python",
     "metadata": {},
     "outputs": [
      {
       "output_type": "stream",
       "stream": "stdout",
       "text": [
        "[[ 0.  1.  2.  3.  4.  5.  6.  7.  8.  9.]\n",
        " [ 0.  1.  2.  3.  4.  5.  6.  7.  8.  9.]\n",
        " [ 0.  1.  2.  3.  4.  5.  6.  7.  8.  9.]\n",
        " [ 0.  1.  2.  3.  4.  5.  6.  7.  8.  9.]\n",
        " [ 0.  1.  2.  3.  4.  5.  6.  7.  8.  9.]\n",
        " [ 0.  1.  2.  3.  4.  5.  6.  7.  8.  9.]\n",
        " [ 0.  1.  2.  3.  4.  5.  6.  7.  8.  9.]\n",
        " [ 0.  1.  2.  3.  4.  5.  6.  7.  8.  9.]\n",
        " [ 0.  1.  2.  3.  4.  5.  6.  7.  8.  9.]\n",
        " [ 0.  1.  2.  3.  4.  5.  6.  7.  8.  9.]]\n"
       ]
      }
     ],
     "prompt_number": 35
    },
    {
     "cell_type": "code",
     "collapsed": false,
     "input": [
      "#The axis object\n",
      "print np.mean(toy_array)\n",
      "print np.mean(toy_array, axis = 0)\n",
      "print np.mean(toy_array, axis = 1)"
     ],
     "language": "python",
     "metadata": {},
     "outputs": [
      {
       "output_type": "stream",
       "stream": "stdout",
       "text": [
        "4.5\n",
        "[ 0.  1.  2.  3.  4.  5.  6.  7.  8.  9.]\n",
        "[ 4.5  4.5  4.5  4.5  4.5  4.5  4.5  4.5  4.5  4.5]\n"
       ]
      }
     ],
     "prompt_number": 36
    },
    {
     "cell_type": "code",
     "collapsed": false,
     "input": [
      "print np.mean(toy_array)\n",
      "print np.std(toy_array)"
     ],
     "language": "python",
     "metadata": {},
     "outputs": [
      {
       "output_type": "stream",
       "stream": "stdout",
       "text": [
        "4.5\n",
        "2.87228132327\n"
       ]
      }
     ],
     "prompt_number": 37
    },
    {
     "cell_type": "markdown",
     "metadata": {},
     "source": [
      "###Remove the lyman alpha airglow from a COS dataset"
     ]
    },
    {
     "cell_type": "code",
     "collapsed": false,
     "input": [
      "ofile = fits.open('lbw3e1060_x1dsum.fits')\n",
      "tbdata = ofile[1].data\n",
      "fig = pyplot.figure()\n",
      "ax = pyplot.subplot(111)\n",
      "ax.plot(tbdata['wavelength'][1], tbdata['flux'][1])"
     ],
     "language": "python",
     "metadata": {},
     "outputs": [
      {
       "output_type": "pyout",
       "prompt_number": 38,
       "text": [
        "[<matplotlib.lines.Line2D at 0x10a270dd0>]"
       ]
      },
      {
       "output_type": "display_data",
       "png": "[encoded data removed]"
      }
     ],
     "prompt_number": 38
    },
    {
     "cell_type": "markdown",
     "metadata": {},
     "source": [
      "###Exercise 3:\n",
      "1. In a new figure, plot the spectrum removing the the lyman alpha airglow  (*hint: the pipe is the bitwise or*)\n",
      "2. What is the next highest airglow peak (bonus - what species does that correspond to)"
     ]
    },
    {
     "cell_type": "code",
     "collapsed": false,
     "input": [
      "wave = tbdata['wavelength'][1]\n",
      "flux = tbdata['flux'][1]\n",
      "indx = np.where((wave < 1214) | (wave > 1217))\n",
      "fig = pyplot.figure()\n",
      "ax = pyplot.subplot(111)\n",
      "ax.plot(wave[indx], flux[indx])"
     ],
     "language": "python",
     "metadata": {},
     "outputs": [
      {
       "output_type": "pyout",
       "prompt_number": 39,
       "text": [
        "[<matplotlib.lines.Line2D at 0x10af5bd50>]"
       ]
      },
      {
       "output_type": "display_data",
       "png": "[encoded data removed]"
      }
     ],
     "prompt_number": 39
    },
    {
     "cell_type": "code",
     "collapsed": false,
     "input": [
      "wave = tbdata['wavelength'][1]\n",
      "flux = tbdata['flux'][1]\n",
      "fig = pyplot.figure()\n",
      "ax = pyplot.subplot(111)\n",
      "ax.plot(wave[(wave < 1214) | (wave > 1217)], flux[(wave < 1214) | (wave > 1217)])"
     ],
     "language": "python",
     "metadata": {},
     "outputs": [
      {
       "output_type": "pyout",
       "prompt_number": 40,
       "text": [
        "[<matplotlib.lines.Line2D at 0x10af38610>]"
       ]
      },
      {
       "output_type": "display_data",
       "png": "[encoded data removed]"
      }
     ],
     "prompt_number": 40
    },
    {
     "cell_type": "markdown",
     "metadata": {},
     "source": [
      "###An easier way to read ascii files"
     ]
    },
    {
     "cell_type": "code",
     "collapsed": false,
     "input": [
      "date, ufo_num = numpy.genfromtxt('../intro_python/ufo_sightings_2012.txt', unpack = True, dtype = (str, float))\n",
      "print date\n",
      "print ufo_num"
     ],
     "language": "python",
     "metadata": {},
     "outputs": [
      {
       "output_type": "stream",
       "stream": "stdout",
       "text": [
        "['Jan' 'Feb' 'Mar' 'Apr' 'May' 'Jun' 'Jul' 'Aug' 'Sep' 'Oct' 'Nov' 'Dec']\n",
        "['577' '388' '528' '495' '514' '748' '925' '887' '753' '668' '772' '662']\n"
       ]
      }
     ],
     "prompt_number": 41
    },
    {
     "cell_type": "markdown",
     "metadata": {},
     "source": [
      "------------------------\n",
      "###If Time\n",
      "\n",
      "------------------------\n",
      "\n",
      "* returning line lists\n",
      "* making a legend, loc = best\n",
      "* linewidth, markers, colors, linestyle\n",
      "* asciitable"
     ]
    },
    {
     "cell_type": "code",
     "collapsed": false,
     "input": [
      "from astropy.io import ascii\n",
      "new_table = ascii.read('../intro_python/ufo_sightings_2011.txt', names = ['date', 'ufo_num'])"
     ],
     "language": "python",
     "metadata": {},
     "outputs": [],
     "prompt_number": 42
    },
    {
     "cell_type": "code",
     "collapsed": false,
     "input": [
      "print new_table"
     ],
     "language": "python",
     "metadata": {},
     "outputs": [
      {
       "output_type": "stream",
       "stream": "stdout",
       "text": [
        "date ufo_num\n",
        "---- -------\n",
        " Jan     327\n",
        " Feb     273\n",
        " Mar     330\n",
        " Apr     316\n",
        " May     316\n",
        " Jun     395\n",
        " Jul     754\n",
        " Aug     635\n",
        " Sep     550\n",
        " Oct     639\n",
        " Nov     444\n",
        " Dec     532\n"
       ]
      }
     ],
     "prompt_number": 43
    },
    {
     "cell_type": "code",
     "collapsed": false,
     "input": [
      "new_table['date']"
     ],
     "language": "python",
     "metadata": {},
     "outputs": [
      {
       "output_type": "pyout",
       "prompt_number": 44,
       "text": [
        "<Column name='date' unit=None format=None description=None>\n",
        "array(['Jan', 'Feb', 'Mar', 'Apr', 'May', 'Jun', 'Jul', 'Aug', 'Sep',\n",
        "       'Oct', 'Nov', 'Dec'], \n",
        "      dtype='|S3')"
       ]
      }
     ],
     "prompt_number": 44
    },
    {
     "cell_type": "code",
     "collapsed": false,
     "input": [],
     "language": "python",
     "metadata": {},
     "outputs": []
    }
   ],
   "metadata": {}
  }
 ]
}