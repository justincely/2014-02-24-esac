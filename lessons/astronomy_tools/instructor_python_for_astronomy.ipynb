{
 "metadata": {
  "name": "instructor_python_for_astronomy"
 },
 "nbformat": 3,
 "nbformat_minor": 0,
 "worksheets": [
  {
   "cells": [
    {
     "cell_type": "markdown",
     "metadata": {},
     "source": [
      "##Fits Binary Tables"
     ]
    },
    {
     "cell_type": "code",
     "collapsed": false,
     "input": [
      "%matplotlib\n",
      "import matplotlib.pyplot as plt\n",
      "plt.ion()"
     ],
     "language": "python",
     "metadata": {},
     "outputs": [
      {
       "output_type": "stream",
       "stream": "stderr",
       "text": [
        "ERROR: Line magic function `%matplotlib` not found."
       ]
      }
     ],
     "prompt_number": 1
    },
    {
     "cell_type": "markdown",
     "metadata": {},
     "source": [
      "##Astropy Time Module"
     ]
    },
    {
     "cell_type": "code",
     "collapsed": false,
     "input": [
      "from astropy.io import fits\n",
      "ofile = fits.open('lbp507070_x1dsum.fits.gz')\n",
      "hdr1 = ofile[1].header\n",
      "tbdata = ofile[1].data"
     ],
     "language": "python",
     "metadata": {},
     "outputs": [],
     "prompt_number": 2
    },
    {
     "cell_type": "code",
     "collapsed": true,
     "input": [
      "hdr1"
     ],
     "language": "python",
     "metadata": {},
     "outputs": [
      {
       "output_type": "pyout",
       "prompt_number": 3,
       "text": [
        "XTENSION= 'BINTABLE'           / binary table extension                         \n",
        "BITPIX  =                    8 / array data type                                \n",
        "NAXIS   =                    2 / number of array dimensions                     \n",
        "NAXIS1  =               622608 / length of dimension 1                          \n",
        "NAXIS2  =                    2 / length of dimension 2                          \n",
        "PCOUNT  =                    0 / number of group parameters                     \n",
        "GCOUNT  =                    1 / number of groups                               \n",
        "TFIELDS =                   12 / number of table fields                         \n",
        "INHERIT =                    T / inherit the primary header                     \n",
        "EXTNAME = 'SCI     '           / extension name                                 \n",
        "EXTVER  =                    1 / extension version number                       \n",
        "ROOTNAME= 'lbp507pmq                         ' / rootname of the observation set\n",
        "EXPNAME = 'lbp507pmq                ' / exposure identifier                     \n",
        "ASN_MTYP= 'PROD-FP '           / Role of the Member in the Association          \n",
        "                                                                                \n",
        "              / APERTURE INFORMATION                                            \n",
        "                                                                                \n",
        "RA_APER =   1.773237083333E+01 / RA of reference aperture center                \n",
        "DEC_APER=  -7.271564444444E+01 / Declination of reference aperture center       \n",
        "PA_APER =   1.459990692139E+02 / Position Angle of reference aperture center (de\n",
        "DISPAXIS=                    1 / dispersion axis; 1 = axis 1, 2 = axis 2, none  \n",
        "SP_LOC_A=    516.9301101929977 / location of spectral extraction region A       \n",
        "SP_LOC_B=    577.2517353472125 / location of spectral extraction region B       \n",
        "SP_OFF_A=   0.2921127614279158 / XD spectrum offset from expected loc (segment A\n",
        "SP_OFF_B=  -0.1806914919598057 / XD spectrum offset from expected loc (segment B\n",
        "SP_NOM_A=    516.9301101929977 / Expected location of spectrum in XD (segment A)\n",
        "SP_NOM_B=    577.2517353472125 / Expected location of spectrum in XD (segment B)\n",
        "SP_SLP_A= -0.00020537595300320 / slope of segment A spectrum                    \n",
        "SP_SLP_B= -1.2878985935984E-05 / slope of segment B spectrum                    \n",
        "SP_HGT_A=                   35 / height (pixels) of segment A extraction region \n",
        "SP_HGT_B=                   35 / height (pixels) of segment B extraction region \n",
        "X_OFFSET=                    0 / offset of detector in a calibrated image       \n",
        "B_HGT1_A=                   35 / height of spectral background 1 segment A      \n",
        "B_HGT1_B=                   35 / height of spectral background 1 segment B      \n",
        "B_HGT2_A=                   35 / height of spectral background 2 segment A      \n",
        "B_HGT2_B=                   35 / height of spectral background 2 segment B      \n",
        "B_BKG1_A=    481.9301101929978 / location of spectral background 1 segment A    \n",
        "B_BKG1_B=    542.2517353472125 / location of spectral background 1 segment B    \n",
        "B_BKG2_A=    551.9301101929977 / location of spectral background 2 segment A    \n",
        "B_BKG2_B=    612.2517353472125 / location of spectral background 2 segment B    \n",
        "                                                                                \n",
        "              / EXPOSURE INFORMATION                                            \n",
        "                                                                                \n",
        "ORIENTAT=              145.999 / position angle of image y axis (deg. e of n)   \n",
        "SUNANGLE=           113.641808 / angle between sun and V1 axis                  \n",
        "MOONANGL=            97.921234 / angle between moon and V1 axis                 \n",
        "SUN_ALT =            71.141106 / altitude of the sun above Earth's limb         \n",
        "FGSLOCK = 'FINE              ' / commanded FGS lock (FINE,COARSE,GYROS,UNKNOWN) \n",
        "GYROMODE= 'T'                  / number of gyros scheduled, T=3+OBAD            \n",
        "REFFRAME= 'ICRS    '           / guide star catalog version                     \n",
        "                                                                                \n",
        "DATE-OBS= '2012-07-25'         / UT date of start of observation (yyyy-mm-dd)   \n",
        "TIME-OBS= '00:42:11'           / UT time of start of observation (hh:mm:ss)     \n",
        "EXPSTART=       56133.02929859 / exposure start time (Modified Julian Date)     \n",
        "EXPEND  =       56133.08844192 / exposure end time (Modified Julian Date)       \n",
        "EXPTIME =             4350.784 / exposure duration (seconds)--calculated        \n",
        "EXPFLAG = 'NORMAL       '      / Exposure interruption indicator                \n",
        "EXPTIMEA=             4350.784 / Exposure time for segment A (seconds)          \n",
        "EXPTIMEB=             4350.784 / Exposure time for segment B (seconds)          \n",
        "                                                                                \n",
        "              / ADDITIONAL EXPOSURE INFORMATION                                 \n",
        "                                                                                \n",
        "EXPSTRTJ=     2456133.52929859 / start time (JD) of exposure                    \n",
        "EXPENDJ =     2456133.58844192 / end time (JD) of exposure                      \n",
        "PLANTIME=               4350.0 / Planned exposure time (seconds)                \n",
        "NINTERPT=                    0 / Number of Exposure Interrupts                  \n",
        "                                                                                \n",
        "              / TIME-TAG PARAMETERS (TIME_TAG only)                             \n",
        "                                                                                \n",
        "BUFFTIME=                660.0 / Onboard memory half-buffer-fill time           \n",
        "OVERFLOW=                    0 / Number of science data overflows               \n",
        "NUMFLASH=                    3 / Integer number of flashes                      \n",
        "LMPDUR1 =                 12.0 / duration of flash, seconds                     \n",
        "LMP_ON1 =   0.6000000000000001 / lamp turn-on  time, seconds since EXPSTART     \n",
        "LMPOFF1 =                 12.6 / lamp turn-off time, seconds since EXPSTART     \n",
        "LMPMED1 =    6.592000007629395 / median time of flash, seconds since EXPSTART   \n",
        "LMPDUR2 =                 12.0 / duration of flash, seconds                     \n",
        "LMP_ON2 =                600.6 / lamp turn-on  time, seconds since EXPSTART     \n",
        "LMPOFF2 =                612.6 / lamp turn-off time, seconds since EXPSTART     \n",
        "LMPMED2 =    606.5280151367188 / median time of flash, seconds since EXPSTART   \n",
        "LMPDUR3 =    11.59201660156236 / duration of flash, seconds                     \n",
        "LMP_ON3 =               1088.6 / lamp turn-on  time, seconds since EXPSTART     \n",
        "LMPOFF3 =    1100.192016601562 / lamp turn-off time, seconds since EXPSTART     \n",
        "LMPMED3 =    1094.303955078125 / median time of flash, seconds since EXPSTART   \n",
        "                                                                                \n",
        "              / VELOCITY REFERENCE FRAME CONVERSIONS                            \n",
        "                                                                                \n",
        "V_HELIO =   -2.257347034267314 / Geocentric to heliocentric velocity            \n",
        "V_LSRSTD=                  0.0 / Heliocentric to standard solar LSR             \n",
        "                                                                                \n",
        "              / DOPPLER CORRECTION PARAMETERS                                   \n",
        "                                                                                \n",
        "ORBITPER=          5742.846164 / Orbital Period used on board for Doppler corr. \n",
        "DOPPER  =                  0.0 / Doppler shift period (seconds)                 \n",
        "DOPPMAG =             0.000000 / Doppler shift magnitude (low-res pixels)       \n",
        "DOPPMAGV=             2.133860 / Doppler shift magnitude (Km/sec)               \n",
        "DOPPON  =                    F / Doppler correction flag                        \n",
        "DOPPZERO=         56133.027293 / Commanded time of zero Doppler shift (MJD)     \n",
        "                                                                                \n",
        "              / INSTRUMENT DOPPLER CORRECTION PARAMETERS                        \n",
        "                                                                                \n",
        "ORBTPERT=                 -1.0 / Orbital Period used on board for Doppler corr. \n",
        "DOPMAGT =                 -1.0 / Doppler shift magnitude (low-res pixels)       \n",
        "DOPPONT =                    F / Doppler correction flag                        \n",
        "DOPZEROT=                 -1.0 / Commanded time of zero Doppler shift (MJD)     \n",
        "                                                                                \n",
        "              / GLOBAL COUNT PARAMETERS                                         \n",
        "                                                                                \n",
        "GLOBRT_A=             817.6802 / global count rate                              \n",
        "GLOBRT_B=            2099.7463 / global count rate                              \n",
        "GLOBLIMA= 'UNDETERMINED    '   / was global linearity level exceeded?           \n",
        "GLOBLIMB= 'UNDETERMINED    '   / was global linearity level exceeded?           \n",
        "                                                                                \n",
        "              / SUBARRAY READOUT PARAMETERS                                     \n",
        "                                                                                \n",
        "NSUBARRY=                    0 / Number of subarrays (1-8)                      \n",
        "CORNER0X=                    0 / subarray axis1 corner pt in unbinned dect. pix \n",
        "CORNER1X=                    0 / subarray axis1 corner pt in unbinned dect. pix \n",
        "CORNER2X=                    0 / subarray axis1 corner pt in unbinned dect. pix \n",
        "CORNER3X=                    0 / subarray axis1 corner pt in unbinned dect. pix \n",
        "CORNER4X=                    0 / subarray axis1 corner pt in unbinned dect. pix \n",
        "CORNER5X=                    0 / subarray axis1 corner pt in unbinned dect. pix \n",
        "CORNER6X=                    0 / subarray axis1 corner pt in unbinned dect. pix \n",
        "CORNER7X=                    0 / subarray axis1 corner pt in unbinned dect. pix \n",
        "CORNER0Y=                    0 / subarray axis2 corner pt in unbinned dect. pix \n",
        "CORNER1Y=                    0 / subarray axis2 corner pt in unbinned dect. pix \n",
        "CORNER2Y=                    0 / subarray axis2 corner pt in unbinned dect. pix \n",
        "CORNER3Y=                    0 / subarray axis2 corner pt in unbinned dect. pix \n",
        "CORNER4Y=                    0 / subarray axis2 corner pt in unbinned dect. pix \n",
        "CORNER5Y=                    0 / subarray axis2 corner pt in unbinned dect. pix \n",
        "CORNER6Y=                    0 / subarray axis2 corner pt in unbinned dect. pix \n",
        "CORNER7Y=                    0 / subarray axis2 corner pt in unbinned dect. pix \n",
        "SIZE0X  =                16384 / subarray 0 axis1 size in unbinned detector pixe\n",
        "SIZE1X  =                    0 / subarray 1 axis1 size in unbinned detector pixe\n",
        "SIZE2X  =                    0 / subarray 2 axis1 size in unbinned detector pixe\n",
        "SIZE3X  =                    0 / subarray 3 axis1 size in unbinned detector pixe\n",
        "SIZE4X  =                16384 / subarray 4 axis1 size in unbinned detector pixe\n",
        "SIZE5X  =                    0 / subarray 5 axis1 size in unbinned detector pixe\n",
        "SIZE6X  =                    0 / subarray 6 axis1 size in unbinned detector pixe\n",
        "SIZE7X  =                    0 / subarray 7 axis1 size in unbinned detector pixe\n",
        "SIZE0Y  =                 1024 / subarray 0 axis2 size in unbinned detector pixe\n",
        "SIZE1Y  =                    0 / subarray 1 axis2 size in unbinned detector pixe\n",
        "SIZE2Y  =                    0 / subarray 2 axis2 size in unbinned detector pixe\n",
        "SIZE3Y  =                    0 / subarray 3 axis2 size in unbinned detector pixe\n",
        "SIZE4Y  =                 1024 / subarray 4 axis2 size in unbinned detector pixe\n",
        "SIZE5Y  =                    0 / subarray 5 axis2 size in unbinned detector pixe\n",
        "SIZE6Y  =                    0 / subarray 6 axis2 size in unbinned detector pixe\n",
        "SIZE7Y  =                    0 / subarray 7 axis2 size in unbinned detector pixe\n",
        "                                                                                \n",
        "              / STIM PULSE PARAMETERS (FUV only)                                \n",
        "                                                                                \n",
        "STIMRATE=                    2 / Approximate STIM pulse injection rate          \n",
        "STIMA_LX=              410.577 / Segment A Left STIM pulse X centroid in raw dat\n",
        "STIMA_LY=               975.45 / Segment A Left STIM pulse Y centroid in raw dat\n",
        "STIMA_RX=            16045.295 / Segment A Right STIM pulse X centroid in raw da\n",
        "STIMA_RY=               23.119 / Segment A Right STIM pulse Y centroid in raw da\n",
        "STIMB_LX=              405.958 / Segment B Left STIM pulse X centroid in raw dat\n",
        "STIMB_LY=              967.984 / Segment B Left STIM pulse Y centroid in raw dat\n",
        "STIMB_RX=            16034.931 / Segment B Right STIM pulse X centroid in raw da\n",
        "STIMB_RY=                15.61 / Segment B Right STIM pulse Y centroid in raw da\n",
        "STIMA0LX=                389.0 / Reference location, seg A, left stim, X coord  \n",
        "STIMA0LY=                984.0 / Reference location, seg A, left stim, Y coord  \n",
        "STIMA0RX=              16000.0 / Reference location, seg A, right stim, X coord \n",
        "STIMA0RY=                 33.0 / Reference location, seg A, right stim, Y coord \n",
        "STIMB0LX=                389.0 / Reference location, seg B, left stim, X coord  \n",
        "STIMB0LY=                987.0 / Reference location, seg B, left stim, Y coord  \n",
        "STIMB0RX=              15996.0 / Reference location, seg B, right stim, X coord \n",
        "STIMB0RY=                 38.0 / Reference location, seg B, right stim, Y coord \n",
        "STIMASLX=                1.351 / RMS width in X, segment A, left stim           \n",
        "STIMASLY=                0.535 / RMS width in Y, segment A, left stim           \n",
        "STIMASRX=                1.333 / RMS width in X, segment A, right stim          \n",
        "STIMASRY=                0.556 / RMS width in Y, segment A, right stim          \n",
        "STIMBSLX=                1.744 / RMS width in X, segment B, left stim           \n",
        "STIMBSLY=                0.571 / RMS width in Y, segment B, left stim           \n",
        "STIMBSRX=                1.437 / RMS width in X, segment B, right stim          \n",
        "STIMBSRY=                0.531 / RMS width in Y, segment B, right stim          \n",
        "                                                                                \n",
        "              / PULSE HEIGHT PARAMETERS (FUV only)                              \n",
        "                                                                                \n",
        "PHALOWRA=                    2 / PHA screening lower limit for segment A        \n",
        "PHALOWRB=                    2 / PHA screening lower limit for segment B        \n",
        "PHAUPPRA=                   30 / PHA screening upper limit for segment A        \n",
        "PHAUPPRB=                   30 / PHA screening upper limit for segment B        \n",
        "                                                                                \n",
        "              / DATA PACKET INFORMATION                                         \n",
        "                                                                                \n",
        "FILLCNT =                    0 / number of segments containing fill             \n",
        "ERRCNT  =                    0 / number of segments containing errors           \n",
        "PODPSFF =                    F / podps fill present (T/F)                       \n",
        "STDCFFF =                    F / science telemetry fill data present (T=1/F=0)  \n",
        "STDCFFP = '0x5569'             / science telemetry fill pattern (hex)           \n",
        "                                                                                \n",
        "              / IMAGE STATISTICS AND DATA QUALITY FLAGS                         \n",
        "                                                                                \n",
        "NGOOD_A =                   -1 / number of good pixels                          \n",
        "NGOOD_B =                   -1 / number of good pixels                          \n",
        "SDQFLAGS=                 8376 / serious data quality flags                     \n",
        "GOODMAXA=               -999.0 / maximum value of good pixels                   \n",
        "GOODMAXB=               -999.0 / maximum value of good pixels                   \n",
        "GOODMAXC=               -999.0 / maximum value of good pixels                   \n",
        "GOODMN_A=               -999.0 / mean value of good pixels                      \n",
        "GOODMN_B=               -999.0 / mean value of good pixels                      \n",
        "GOODMN_C=               -999.0 / mean value of good pixels                      \n",
        "NEVENTS =              3199270 / Number of events in raw data file(segments A+B)\n",
        "NEVENTSA=               891276 / Number of events in raw data file (segment A)  \n",
        "NEVENTSB=              2307994 / Number of events in raw data file (segment B)  \n",
        "NBADEVTA=                13250 / Tot num of events deleted in screen (segment A)\n",
        "NBADEVTB=                28670 / Tot num of events deleted in screen (segment B)\n",
        "RAWTIME =          1100.000000 / exposure duration of raw data file (seconds)   \n",
        "SOFTERRS=                    0 / number of soft error pixels (DQF=1)            \n",
        "NPHA_A  =                 5180 / Number of seg A events flagged in PHA screening\n",
        "NPHA_B  =                 4564 / Number of seg B events flagged in PHA screening\n",
        "NBRST_A =                    0 / Number of events lost due to bursts            \n",
        "NBRST_B =                    0 / Number of events lost due to bursts            \n",
        "NBADT_A =                    0 / Number of events flagged by BADTCORR           \n",
        "NBADT_B =                    0 / Number of events flagged by BADTCORR           \n",
        "NOUT_A  =                 8070 / Number of events outside of active area        \n",
        "NOUT_B  =                24106 / Number of events outside of active area        \n",
        "TBRST_A =                  0.0 / Time lost to bursts (seconds)                  \n",
        "TBRST_B =                  0.0 / Time lost to bursts (seconds)                  \n",
        "TBADT_A =                  0.0 / Time lost to BADTCORR screening (seconds)      \n",
        "TBADT_B =                  0.0 / Time lost to BADTCORR screening (seconds)      \n",
        "DEADRT_A=    810.1094959342702 / Count rate used for dead time correction (c/s) \n",
        "DEADRT_B=    2097.810168746068 / Count rate used for dead time correction (c/s) \n",
        "DEADMT_A= 'DATA    '           / Deadtime correction method                     \n",
        "DEADMT_B= 'DATA    '           / Deadtime correction method                     \n",
        "                                                                                \n",
        "              / PHOTOMETRY KEYWORDS                                             \n",
        "                                                                                \n",
        "CONT2EML=             0.000000 / Intensity conversion: continuum -> emission    \n",
        "SCALE_A1=             0.000000 / Size of one pixel (arcsec) along dispersion axi\n",
        "OMEGAPIX=             0.000000 / Solid angle (arcsec**2) subtended by one pixel \n",
        "                                                                                \n",
        "              / IMAGING PHOTOMETRIC PARAMETERS                                  \n",
        "                                                                                \n",
        "PHOTFLAM=               -999.0 / inverse sensitivity, ergs/s/cm2/Ang per count/s\n",
        "PHOTFNU =               -999.0 / inverse sensitivity, ergs/s/cm2/Hz per count/s \n",
        "PHOTBW  =               -999.0 / RMS bandwidth of filter plus detector (Ang)    \n",
        "PHOTPLAM=               -999.0 / Pivot wavelength                               \n",
        "PHOTZPT =               -21.10 / ST magnitude zero point                        \n",
        "                                                                                \n",
        "              / DETECTOR COUNT RATES                                            \n",
        "                                                                                \n",
        "DEVENTA =                817.0 / digital event counter, FUV segment A (counts/s)\n",
        "DEVENTB =               2138.0 / digital event counter, FUV segment B (counts/s)\n",
        "FEVENTA =                829.0 / DCE Fast Event Counter, FUV segment A(counts/s)\n",
        "FEVENTB =               2164.0 / DCE Fast Event Counter, FUV segment B(counts/s)\n",
        "                                                                                \n",
        "              / DETECTOR VOLTAGES                                               \n",
        "                                                                                \n",
        "DETHVLA =             -5161.68 / Detector segment A high voltage level (volts)  \n",
        "DETHVLB =             -5110.32 / Detector segment B high voltage level (volts)  \n",
        "DETHVCA =             -5104.54 / Detector segment A commanded hv level (volts)  \n",
        "DETHVCB =             -5057.47 / Detector segment B commanded hv level (volts)  \n",
        "DETHVNA =             -5120.23 / Detector segment A nominal hv level (volts)    \n",
        "DETHVNB =             -5057.47 / Detector segment B nominal hv level (volts)    \n",
        "HVLEVELA=                  167 / Actual segment A commanded HV level (counts)   \n",
        "HVLEVELB=                  163 / Actual segment B commanded HV level (counts)   \n",
        "                                                                                \n",
        "              / TIMETAG EVENTS ORIENTATION KEYWORDS                             \n",
        "                                                                                \n",
        "TALEN2  =                16384 / length of axis 1                               \n",
        "TALEN3  =                 1024 / length of axis 2                               \n",
        "XS-SORT = 'TIME'               /                                                \n",
        "LIVETM_A=   0.9936900177851967                                                  \n",
        "CHI_SQ_A=              28522.3                                                  \n",
        "NDF_A   =              11213.0                                                  \n",
        "NGOODPIX=                29642                                                  \n",
        "GOODMEAN=    440.3486647514506                                                  \n",
        "GOODMAX =    1327.744959470749                                                  \n",
        "LIVETM_B=   0.9838067635614764                                                  \n",
        "CHI_SQ_B=              64401.0                                                  \n",
        "NDF_B   =              18657.0                                                  \n",
        "TTYPE1  = 'SEGMENT '                                                            \n",
        "TFORM1  = '4A      '                                                            \n",
        "TTYPE2  = 'EXPTIME '                                                            \n",
        "TFORM2  = 'D       '                                                            \n",
        "TUNIT2  = 's       '                                                            \n",
        "TDISP2  = 'F8.3    '                                                            \n",
        "TTYPE3  = 'NELEM   '                                                            \n",
        "TFORM3  = 'J       '                                                            \n",
        "TDISP3  = 'I6      '                                                            \n",
        "TTYPE4  = 'WAVELENGTH'                                                          \n",
        "TFORM4  = '16384D  '                                                            \n",
        "TUNIT4  = 'angstrom'                                                            \n",
        "TTYPE5  = 'FLUX    '                                                            \n",
        "TFORM5  = '16384E  '                                                            \n",
        "TUNIT5  = 'erg /s /cm**2 /angstrom'                                             \n",
        "TTYPE6  = 'ERROR   '                                                            \n",
        "TFORM6  = '16384E  '                                                            \n",
        "TUNIT6  = 'erg /s /cm**2 /angstrom'                                             \n",
        "TTYPE7  = 'GROSS   '                                                            \n",
        "TFORM7  = '16384E  '                                                            \n",
        "TUNIT7  = 'count /s'                                                            \n",
        "TTYPE8  = 'GCOUNTS '                                                            \n",
        "TFORM8  = '16384E  '                                                            \n",
        "TUNIT8  = 'count   '                                                            \n",
        "TTYPE9  = 'NET     '                                                            \n",
        "TFORM9  = '16384E  '                                                            \n",
        "TUNIT9  = 'count /s'                                                            \n",
        "TTYPE10 = 'BACKGROUND'                                                          \n",
        "TFORM10 = '16384E  '                                                            \n",
        "TUNIT10 = 'count /s'                                                            \n",
        "TTYPE11 = 'DQ      '                                                            \n",
        "TFORM11 = '16384I  '                                                            \n",
        "TTYPE12 = 'DQ_WGT  '                                                            \n",
        "TFORM12 = '16384E  '                                                            \n",
        "                                                                                \n",
        "              / TIMETAG EVENTS TABLE COLUMNS                                    "
       ]
      }
     ],
     "prompt_number": 3
    },
    {
     "cell_type": "markdown",
     "metadata": {},
     "source": [
      "**Convert header mjd to human readable and back again**"
     ]
    },
    {
     "cell_type": "code",
     "collapsed": false,
     "input": [
      "from astropy.time import Time"
     ],
     "language": "python",
     "metadata": {},
     "outputs": [],
     "prompt_number": 4
    },
    {
     "cell_type": "code",
     "collapsed": false,
     "input": [
      "expstart = hdr1['expstart']\n",
      "print expstart"
     ],
     "language": "python",
     "metadata": {},
     "outputs": [
      {
       "output_type": "stream",
       "stream": "stdout",
       "text": [
        "56133.0292986\n"
       ]
      }
     ],
     "prompt_number": 5
    },
    {
     "cell_type": "code",
     "collapsed": false,
     "input": [
      "expstart_time_obj = Time(expstart, format = 'mjd', scale = 'utc')\n",
      "print expstart_time_obj.iso\n",
      "print expstart_time_obj.yday"
     ],
     "language": "python",
     "metadata": {},
     "outputs": [
      {
       "output_type": "stream",
       "stream": "stdout",
       "text": [
        "2012-07-25 00:42:11.398\n",
        "2012:207:00:42:11.398\n"
       ]
      }
     ],
     "prompt_number": 8
    },
    {
     "cell_type": "code",
     "collapsed": false,
     "input": [
      "new_time = Time('2014-02-25', format = 'iso', scale = 'utc')\n",
      "print new_time.mjd"
     ],
     "language": "python",
     "metadata": {},
     "outputs": [
      {
       "output_type": "stream",
       "stream": "stdout",
       "text": [
        "56713.0\n"
       ]
      }
     ],
     "prompt_number": 9
    },
    {
     "cell_type": "markdown",
     "metadata": {},
     "source": [
      "###EXERCISE 1:\n",
      "Convert the EXPEND keyword to a human readable"
     ]
    },
    {
     "cell_type": "code",
     "collapsed": false,
     "input": [
      "expend = hdr1['expend']\n",
      "expend_time_obj = Time(expend, format = 'mjd', scale = 'utc')\n",
      "print expend_time_obj.iso"
     ],
     "language": "python",
     "metadata": {},
     "outputs": [
      {
       "output_type": "stream",
       "stream": "stdout",
       "text": [
        "2012-07-25 02:07:21.382\n"
       ]
      }
     ],
     "prompt_number": 16
    },
    {
     "cell_type": "markdown",
     "metadata": {},
     "source": [
      "**Find out about your table**"
     ]
    },
    {
     "cell_type": "code",
     "collapsed": false,
     "input": [
      "tbdata.columns"
     ],
     "language": "python",
     "metadata": {},
     "outputs": [
      {
       "output_type": "pyout",
       "prompt_number": 17,
       "text": [
        "ColDefs(\n",
        "    name = 'SEGMENT'; format = '4A'\n",
        "    name = 'EXPTIME'; format = 'D'; unit = 's'; disp = 'F8.3'\n",
        "    name = 'NELEM'; format = 'J'; disp = 'I6'\n",
        "    name = 'WAVELENGTH'; format = '16384D'; unit = 'angstrom'\n",
        "    name = 'FLUX'; format = '16384E'; unit = 'erg /s /cm**2 /angstrom'\n",
        "    name = 'ERROR'; format = '16384E'; unit = 'erg /s /cm**2 /angstrom'\n",
        "    name = 'GROSS'; format = '16384E'; unit = 'count /s'\n",
        "    name = 'GCOUNTS'; format = '16384E'; unit = 'count'\n",
        "    name = 'NET'; format = '16384E'; unit = 'count /s'\n",
        "    name = 'BACKGROUND'; format = '16384E'; unit = 'count /s'\n",
        "    name = 'DQ'; format = '16384I'\n",
        "    name = 'DQ_WGT'; format = '16384E'\n",
        ")"
       ]
      }
     ],
     "prompt_number": 17
    },
    {
     "cell_type": "code",
     "collapsed": false,
     "input": [
      "tbdata.names"
     ],
     "language": "python",
     "metadata": {},
     "outputs": [
      {
       "output_type": "pyout",
       "prompt_number": 18,
       "text": [
        "['SEGMENT',\n",
        " 'EXPTIME',\n",
        " 'NELEM',\n",
        " 'WAVELENGTH',\n",
        " 'FLUX',\n",
        " 'ERROR',\n",
        " 'GROSS',\n",
        " 'GCOUNTS',\n",
        " 'NET',\n",
        " 'BACKGROUND',\n",
        " 'DQ',\n",
        " 'DQ_WGT']"
       ]
      }
     ],
     "prompt_number": 18
    },
    {
     "cell_type": "markdown",
     "metadata": {},
     "source": [
      "**Plot the Spectrum**"
     ]
    },
    {
     "cell_type": "code",
     "collapsed": false,
     "input": [
      "fig = plt.figure(1)\n",
      "ax = fig.add_subplot(111)\n",
      "ax.plot(tbdata['wavelength'][1], tbdata['flux'][1])"
     ],
     "language": "python",
     "metadata": {},
     "outputs": [
      {
       "output_type": "pyout",
       "prompt_number": 19,
       "text": [
        "[<matplotlib.lines.Line2D at 0x108ae4990>]"
       ]
      }
     ],
     "prompt_number": 19
    },
    {
     "cell_type": "code",
     "collapsed": false,
     "input": [],
     "language": "python",
     "metadata": {},
     "outputs": []
    },
    {
     "cell_type": "markdown",
     "metadata": {},
     "source": [
      "**2 ways to select data**"
     ]
    },
    {
     "cell_type": "code",
     "collapsed": false,
     "input": [
      "type(tbdata['wavelength'])"
     ],
     "language": "python",
     "metadata": {},
     "outputs": [
      {
       "output_type": "pyout",
       "prompt_number": 21,
       "text": [
        "numpy.ndarray"
       ]
      }
     ],
     "prompt_number": 21
    },
    {
     "cell_type": "code",
     "collapsed": false,
     "input": [
      "wave = tbdata['wavelength'][1]\n",
      "flux = tbdata['flux'][1]\n",
      "print wave\n",
      "print wave > 1412"
     ],
     "language": "python",
     "metadata": {},
     "outputs": [
      {
       "output_type": "stream",
       "stream": "stdout",
       "text": [
        "[ 1374.5148384   1374.52707446  1374.53931051 ...,  1574.95363257\n",
        "  1574.96586863  1574.97810468]\n",
        "[False False False ...,  True  True  True]\n"
       ]
      }
     ],
     "prompt_number": 23
    },
    {
     "cell_type": "code",
     "collapsed": false,
     "input": [
      "print wave[wave > 1412]"
     ],
     "language": "python",
     "metadata": {},
     "outputs": [
      {
       "output_type": "stream",
       "stream": "stdout",
       "text": [
        "[ 1412.00610666  1412.01834272  1412.03057877 ...,  1574.95363257\n",
        "  1574.96586863  1574.97810468]\n"
       ]
      }
     ],
     "prompt_number": 24
    },
    {
     "cell_type": "markdown",
     "metadata": {},
     "source": [
      "**or**"
     ]
    },
    {
     "cell_type": "code",
     "collapsed": false,
     "input": [
      "import numpy as np\n",
      "indx = np.where(wave > 1412)\n",
      "print indx\n",
      "print wave[indx]"
     ],
     "language": "python",
     "metadata": {},
     "outputs": [
      {
       "output_type": "stream",
       "stream": "stdout",
       "text": [
        "(array([ 3064,  3065,  3066, ..., 16381, 16382, 16383]),)\n",
        "[ 1412.00610666  1412.01834272  1412.03057877 ...,  1574.95363257\n",
        "  1574.96586863  1574.97810468]\n"
       ]
      }
     ],
     "prompt_number": 26
    },
    {
     "cell_type": "code",
     "collapsed": false,
     "input": [
      "indx = np.where((wave > 1412) & (wave < 1540))\n",
      "print wave[indx]"
     ],
     "language": "python",
     "metadata": {},
     "outputs": [
      {
       "output_type": "stream",
       "stream": "stdout",
       "text": [
        "[ 1412.00610666  1412.01834272  1412.03057877 ...,  1539.97075531\n",
        "  1539.98299136  1539.99522741]\n"
       ]
      }
     ],
     "prompt_number": 28
    },
    {
     "cell_type": "code",
     "collapsed": false,
     "input": [
      "ax.plot(wave[indx], flux[indx])\n",
      "plt.draw()"
     ],
     "language": "python",
     "metadata": {},
     "outputs": [],
     "prompt_number": 30
    },
    {
     "cell_type": "markdown",
     "metadata": {},
     "source": [
      "###EXERCISE 2:\n",
      "1. Label your axes and give your plot a title\n",
      "2. Find the mean continuum value"
     ]
    },
    {
     "cell_type": "code",
     "collapsed": false,
     "input": [
      "ax.set_xlabel('Wavelength')\n",
      "ax.set_ylabel('Flux')\n",
      "ax.set_title('Cool Spectrum')\n",
      "plt.draw()"
     ],
     "language": "python",
     "metadata": {},
     "outputs": [],
     "prompt_number": 31
    },
    {
     "cell_type": "code",
     "collapsed": false,
     "input": [
      "print np.mean(flux[indx])\n",
      "print flux[indx].mean()"
     ],
     "language": "python",
     "metadata": {},
     "outputs": [
      {
       "output_type": "stream",
       "stream": "stdout",
       "text": [
        "1.26058e-13\n",
        "1.26058e-13\n"
       ]
      }
     ],
     "prompt_number": 33
    },
    {
     "cell_type": "markdown",
     "metadata": {},
     "source": [
      "###Sidenote: Other Useful Numpy"
     ]
    },
    {
     "cell_type": "code",
     "collapsed": false,
     "input": [],
     "language": "python",
     "metadata": {},
     "outputs": []
    },
    {
     "cell_type": "code",
     "collapsed": false,
     "input": [],
     "language": "python",
     "metadata": {},
     "outputs": []
    },
    {
     "cell_type": "code",
     "collapsed": false,
     "input": [],
     "language": "python",
     "metadata": {},
     "outputs": []
    },
    {
     "cell_type": "markdown",
     "metadata": {},
     "source": [
      "###Remove the lyman alpha airglow from a COS dataset"
     ]
    },
    {
     "cell_type": "code",
     "collapsed": false,
     "input": [],
     "language": "python",
     "metadata": {},
     "outputs": []
    },
    {
     "cell_type": "markdown",
     "metadata": {},
     "source": [
      "###Exercise 3:\n",
      "1. In a new figure, plot the spectrum removing the the lyman alpha airglow  (*hint: the pipe is the bitwise or*)\n",
      "2. What is the next highest airglow peak (bonus - what species does that correspond to)"
     ]
    },
    {
     "cell_type": "code",
     "collapsed": false,
     "input": [],
     "language": "python",
     "metadata": {},
     "outputs": []
    },
    {
     "cell_type": "code",
     "collapsed": false,
     "input": [],
     "language": "python",
     "metadata": {},
     "outputs": []
    },
    {
     "cell_type": "markdown",
     "metadata": {},
     "source": [
      "###An easier way to read ascii files"
     ]
    },
    {
     "cell_type": "code",
     "collapsed": false,
     "input": [],
     "language": "python",
     "metadata": {},
     "outputs": []
    },
    {
     "cell_type": "markdown",
     "metadata": {},
     "source": [
      "------------------------\n",
      "###If Time\n",
      "\n",
      "------------------------\n",
      "\n",
      "* returning line lists\n",
      "* making a legend, loc = best\n",
      "* linewidth, markers, colors, linestyle\n",
      "* asciitable"
     ]
    },
    {
     "cell_type": "code",
     "collapsed": false,
     "input": [],
     "language": "python",
     "metadata": {},
     "outputs": []
    },
    {
     "cell_type": "code",
     "collapsed": false,
     "input": [],
     "language": "python",
     "metadata": {},
     "outputs": []
    },
    {
     "cell_type": "code",
     "collapsed": false,
     "input": [],
     "language": "python",
     "metadata": {},
     "outputs": []
    },
    {
     "cell_type": "code",
     "collapsed": false,
     "input": [],
     "language": "python",
     "metadata": {},
     "outputs": []
    }
   ],
   "metadata": {}
  }
 ]
}