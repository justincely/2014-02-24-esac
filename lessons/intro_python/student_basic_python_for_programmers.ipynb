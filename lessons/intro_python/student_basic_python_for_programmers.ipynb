{
 "metadata": {
  "name": "student_basic_python_for_programmers"
 },
 "nbformat": 3,
 "nbformat_minor": 0,
 "worksheets": [
  {
   "cells": [
    {
     "cell_type": "markdown",
     "metadata": {},
     "source": [
      "---\n",
      "\n",
      "#Intro to Python\n",
      "\n",
      "---"
     ]
    },
    {
     "cell_type": "markdown",
     "metadata": {},
     "source": [
      "###Why Python?  \n",
      "1.  Readibility  \n",
      "2.  Built with coder psychology in mind\n",
      "3.  Language interoperability  \n",
      "4.  Object Oriented  \n",
      "5.  It does EVERYTHING  "
     ]
    },
    {
     "cell_type": "markdown",
     "metadata": {},
     "source": [
      "![alt text](http://imgs.xkcd.com/comics/python.png \"Title\")"
     ]
    },
    {
     "cell_type": "markdown",
     "metadata": {},
     "source": [
      "## And simply diving in:  \n",
      "Let's quick look at an example of python showing  \n",
      "\n",
      " *  using libraries  \n",
      " *  using comments  \n",
      " *  variable assignment  \n",
      " *  using functions  \n",
      " *  printing results  \n",
      "  \n",
      "Then we'll go through things more slowly"
     ]
    },
    {
     "cell_type": "code",
     "collapsed": false,
     "input": [],
     "language": "python",
     "metadata": {},
     "outputs": []
    },
    {
     "cell_type": "markdown",
     "metadata": {},
     "source": [
      "  \n",
      "---\n",
      "  \n",
      "# Variables  \n",
      "  \n",
      "---  \n",
      "  \n",
      "*  No need to declare variable types  \n",
      "*  ANYTHING can be put in a variable  \n",
      "    +  numbers  \n",
      "    +  strings  \n",
      "    +  functions  \n",
      "    +  file-handles\n",
      "    +  etc, etc  \n",
      "\n",
      "Variables are just containers to put stuff in, they don't much care what!"
     ]
    },
    {
     "cell_type": "code",
     "collapsed": false,
     "input": [],
     "language": "python",
     "metadata": {},
     "outputs": []
    },
    {
     "cell_type": "code",
     "collapsed": false,
     "input": [],
     "language": "python",
     "metadata": {},
     "outputs": []
    },
    {
     "cell_type": "code",
     "collapsed": false,
     "input": [],
     "language": "python",
     "metadata": {},
     "outputs": []
    },
    {
     "cell_type": "code",
     "collapsed": false,
     "input": [],
     "language": "python",
     "metadata": {},
     "outputs": []
    },
    {
     "cell_type": "markdown",
     "metadata": {},
     "source": [
      "### Numbers: ints and floats"
     ]
    },
    {
     "cell_type": "code",
     "collapsed": false,
     "input": [],
     "language": "python",
     "metadata": {},
     "outputs": []
    },
    {
     "cell_type": "code",
     "collapsed": false,
     "input": [],
     "language": "python",
     "metadata": {},
     "outputs": []
    },
    {
     "cell_type": "markdown",
     "metadata": {},
     "source": [
      "## *Excercise:*  \n",
      "\n",
      "Do some basic arithmetic with floats and integers.  \n",
      "\n",
      "*  addition:        +  \n",
      "*  subtraction:     -  \n",
      "*  multiplication:  *  \n",
      "*  division:        /  \n",
      "*  exponentiataion: **\n",
      "*  modulo:          %"
     ]
    },
    {
     "cell_type": "code",
     "collapsed": false,
     "input": [],
     "language": "python",
     "metadata": {},
     "outputs": [],
     "prompt_number": 46
    },
    {
     "cell_type": "code",
     "collapsed": false,
     "input": [],
     "language": "python",
     "metadata": {},
     "outputs": []
    },
    {
     "cell_type": "markdown",
     "metadata": {},
     "source": [
      "### Strings"
     ]
    },
    {
     "cell_type": "code",
     "collapsed": false,
     "input": [],
     "language": "python",
     "metadata": {},
     "outputs": []
    },
    {
     "cell_type": "code",
     "collapsed": false,
     "input": [],
     "language": "python",
     "metadata": {},
     "outputs": []
    },
    {
     "cell_type": "markdown",
     "metadata": {},
     "source": [
      "### Lists\n",
      "\n",
      "This is NOT the python equivalent to an IDL array.  \n",
      "This is a list, which serves a different purpose."
     ]
    },
    {
     "cell_type": "code",
     "collapsed": false,
     "input": [],
     "language": "python",
     "metadata": {},
     "outputs": []
    },
    {
     "cell_type": "code",
     "collapsed": false,
     "input": [],
     "language": "python",
     "metadata": {},
     "outputs": []
    },
    {
     "cell_type": "code",
     "collapsed": false,
     "input": [],
     "language": "python",
     "metadata": {},
     "outputs": []
    },
    {
     "cell_type": "markdown",
     "metadata": {},
     "source": [
      "---\n",
      "\n",
      "# Operations...but not only with numbers?\n",
      "\n",
      "---"
     ]
    },
    {
     "cell_type": "markdown",
     "metadata": {},
     "source": [
      "##Exercise:\n",
      "\n",
      "1. Try different operations on different data types: use addition to \"add\" integers, floats, strings, and lists. Does addition behave the same when acting on a string vs a float?\n",
      "\n",
      "2. Now try with multiplication, division, and subtraction. Do these operations work on all data types?\n"
     ]
    },
    {
     "cell_type": "markdown",
     "metadata": {},
     "source": [
      "# If you finish early, take a break"
     ]
    },
    {
     "cell_type": "markdown",
     "metadata": {},
     "source": [
      "## *Excercise:*  \n",
      "\n",
      "Make a string containing \"luminiferous ether\" 10 times.\n",
      "\n",
      "Then make a list of that string 100 times."
     ]
    },
    {
     "cell_type": "code",
     "collapsed": false,
     "input": [],
     "language": "python",
     "metadata": {},
     "outputs": []
    },
    {
     "cell_type": "markdown",
     "metadata": {},
     "source": [
      "# More datatypes"
     ]
    },
    {
     "cell_type": "markdown",
     "metadata": {},
     "source": [
      "###Tuple"
     ]
    },
    {
     "cell_type": "code",
     "collapsed": false,
     "input": [],
     "language": "python",
     "metadata": {},
     "outputs": []
    },
    {
     "cell_type": "code",
     "collapsed": false,
     "input": [],
     "language": "python",
     "metadata": {},
     "outputs": []
    },
    {
     "cell_type": "markdown",
     "metadata": {},
     "source": [
      "###Dictionary"
     ]
    },
    {
     "cell_type": "code",
     "collapsed": false,
     "input": [],
     "language": "python",
     "metadata": {},
     "outputs": []
    },
    {
     "cell_type": "code",
     "collapsed": false,
     "input": [
      "#Also, an example of using dictionaries\n",
      "fruit = 'apple'\n",
      "#Option 1:\n",
      "if fruit == 'banana':\n",
      "    quantity = 2\n",
      "elif fruit == 'carrot':\n",
      "    quantity = 5\n",
      "elif fruit == 'apple':\n",
      "    quantity = 3\n",
      "else:\n",
      "    print 'I do not know how much fruit to by for the fruit you specified'\n",
      "    \n",
      "#Option 2:\n",
      "    quantity = my_dict[fruit]"
     ],
     "language": "python",
     "metadata": {},
     "outputs": []
    },
    {
     "cell_type": "markdown",
     "metadata": {},
     "source": [
      "### Numpy Array"
     ]
    },
    {
     "cell_type": "code",
     "collapsed": false,
     "input": [],
     "language": "python",
     "metadata": {},
     "outputs": []
    },
    {
     "cell_type": "markdown",
     "metadata": {},
     "source": [
      "----------------\n",
      "#Control Statements\n",
      "\n",
      "-----------------"
     ]
    },
    {
     "cell_type": "markdown",
     "metadata": {},
     "source": [
      "All control statements use : followed by indentation to denote that a given statement is acting on everything indented below. This improve readability by forcing you to write good code and remove the chance of forgetting to end your statement "
     ]
    },
    {
     "cell_type": "markdown",
     "metadata": {},
     "source": [
      "###For loop"
     ]
    },
    {
     "cell_type": "code",
     "collapsed": false,
     "input": [],
     "language": "python",
     "metadata": {},
     "outputs": []
    },
    {
     "cell_type": "markdown",
     "metadata": {},
     "source": [
      "###If Statements"
     ]
    },
    {
     "cell_type": "code",
     "collapsed": false,
     "input": [
      "#From above:\n",
      "if fruit == 'banana':\n",
      "    quantity = 2\n",
      "elif fruit == 'carrot':\n",
      "    quantity = 5\n",
      "elif fruit == 'apple':\n",
      "    quantity = 3\n",
      "else:\n",
      "    print 'I do not know how much fruit to by for the fruit you specified'"
     ],
     "language": "python",
     "metadata": {},
     "outputs": []
    },
    {
     "cell_type": "markdown",
     "metadata": {},
     "source": [
      "###Other useful statements:\n",
      "\n",
      "* while condition:\n",
      "* break - stop iterating\n",
      "* continue - go to next interation\n"
     ]
    },
    {
     "cell_type": "markdown",
     "metadata": {},
     "source": [
      "---\n",
      "\n",
      "# Everything is an object\n",
      "\n",
      "---\n",
      "\n",
      "**Everthing** really is an object in python.  Lists, functions, strings, even numbers.\n",
      "\n",
      "This is important as we start to manipulate these data types.\n",
      "\n",
      "We can get information about objects and ask them to do things "
     ]
    },
    {
     "cell_type": "markdown",
     "metadata": {},
     "source": [
      "###Attributes: describing an object"
     ]
    },
    {
     "cell_type": "code",
     "collapsed": false,
     "input": [],
     "language": "python",
     "metadata": {},
     "outputs": []
    },
    {
     "cell_type": "markdown",
     "metadata": {},
     "source": [
      "###Methods: Doing something with or to an object"
     ]
    },
    {
     "cell_type": "code",
     "collapsed": false,
     "input": [],
     "language": "python",
     "metadata": {},
     "outputs": []
    },
    {
     "cell_type": "markdown",
     "metadata": {},
     "source": [
      "###What else can you do with an object?"
     ]
    },
    {
     "cell_type": "code",
     "collapsed": false,
     "input": [],
     "language": "python",
     "metadata": {},
     "outputs": []
    },
    {
     "cell_type": "code",
     "collapsed": false,
     "input": [],
     "language": "python",
     "metadata": {},
     "outputs": []
    },
    {
     "cell_type": "markdown",
     "metadata": {},
     "source": [
      "-----------------\n",
      "#Getting Help\n",
      "\n",
      "-----------------"
     ]
    },
    {
     "cell_type": "code",
     "collapsed": false,
     "input": [],
     "language": "python",
     "metadata": {},
     "outputs": []
    },
    {
     "cell_type": "markdown",
     "metadata": {},
     "source": [
      "## *Excercise:*  \n",
      "\n",
      "1.  Put your favorite astronomical target in a variable  (e.g. astro_obj = 'supernovae')\n",
      "2.  Use the dir() function to find out how to:  \n",
      "    *  make everything in caps\n",
      "    *  count the occurance of each vowel, 'a','e','i','o','u'\n"
     ]
    },
    {
     "cell_type": "code",
     "collapsed": false,
     "input": [],
     "language": "python",
     "metadata": {},
     "outputs": []
    },
    {
     "cell_type": "markdown",
     "metadata": {},
     "source": [
      "---\n",
      "\n",
      "# Errors and the Traceback\n",
      "\n",
      "---\n",
      "\n",
      "It may look scary, but it is **EXTREMELY** helpful.\n",
      "\n",
      "When you execute code or run a script, python executes the  \n",
      "instructions line by line until it reaches an error or the end of the code.\n",
      "\n",
      "This means that the interpreter knows exactly where it was when it   \n",
      "encountered something that caused a crash, and will tell you exactly which  \n",
      "line of code caused the problem.\n",
      "\n",
      "It also throws useful error messages, which can be useful for de-bugging."
     ]
    },
    {
     "cell_type": "code",
     "collapsed": false,
     "input": [],
     "language": "python",
     "metadata": {},
     "outputs": []
    },
    {
     "cell_type": "markdown",
     "metadata": {},
     "source": [
      "This doesn't just work for math, it also works for incorrect syntax, missing variables, etc"
     ]
    },
    {
     "cell_type": "markdown",
     "metadata": {},
     "source": [
      "## *Exercise*\n",
      "\n",
      "* Find and correct the errors in the cell below until the code runs all the way through without errors"
     ]
    },
    {
     "cell_type": "code",
     "collapsed": false,
     "input": [
      "\n",
      "first_name = 'justin\n",
      "last_name = 'ely'\n",
      "\n",
      "print first_name, ' ', middle_name, ' ', last_name\n",
      "\n",
      "age = 25 + 0j\n",
      "print 'And I am ', age.real_part, ' old'\n",
      "\n"
     ],
     "language": "python",
     "metadata": {},
     "outputs": []
    },
    {
     "cell_type": "markdown",
     "metadata": {},
     "source": [
      "Remember: the traceback is your friend!  \n",
      "  \n",
      "  "
     ]
    },
    {
     "cell_type": "markdown",
     "metadata": {},
     "source": [
      "---------------------\n",
      "#Functions\n",
      "\n",
      "---------------------"
     ]
    },
    {
     "cell_type": "markdown",
     "metadata": {},
     "source": [
      "Functions should be:\n",
      "\n",
      "* *SMALL* When you write code, you should write short functions centered on a single task. Think of your code as an essay and each function as a paragraph. It is overwhelming to read an essay (or book) without paragraphs and you are likely to miss errors you would have otherwise caught. Small functions:\n",
      "\n",
      "    * Improve readability\n",
      "    * Easy to reuse\n",
      "    * avoid repeating code with different variables\n",
      "    * avoid changing code in multiple places\n",
      "\n",
      "* *WELL NAMED* Your function calls (and variable names) should describe exactly what you are doing. This makes your code very readable\n",
      "\n",
      "Let's write a program to read a 2 column text file with number of UFO sightings for each month of a given year (data from: http://www.nuforc.org/webreports/ndxevent.html)"
     ]
    },
    {
     "cell_type": "code",
     "collapsed": false,
     "input": [],
     "language": "python",
     "metadata": {},
     "outputs": []
    },
    {
     "cell_type": "code",
     "collapsed": false,
     "input": [],
     "language": "python",
     "metadata": {},
     "outputs": []
    },
    {
     "cell_type": "code",
     "collapsed": false,
     "input": [],
     "language": "python",
     "metadata": {},
     "outputs": []
    },
    {
     "cell_type": "code",
     "collapsed": false,
     "input": [],
     "language": "python",
     "metadata": {},
     "outputs": []
    },
    {
     "cell_type": "code",
     "collapsed": false,
     "input": [],
     "language": "python",
     "metadata": {},
     "outputs": []
    },
    {
     "cell_type": "code",
     "collapsed": false,
     "input": [],
     "language": "python",
     "metadata": {},
     "outputs": []
    },
    {
     "cell_type": "markdown",
     "metadata": {},
     "source": [
      "## *Exercise*\n",
      "\n",
      "1. Write a function to find the mean of a list of numbers\n",
      "2. Use read_file, parse_file, and the mean function you just wrote to find the average number of UFO sightings per month in 2013"
     ]
    },
    {
     "cell_type": "code",
     "collapsed": false,
     "input": [],
     "language": "python",
     "metadata": {},
     "outputs": []
    },
    {
     "cell_type": "code",
     "collapsed": false,
     "input": [],
     "language": "python",
     "metadata": {},
     "outputs": []
    },
    {
     "cell_type": "markdown",
     "metadata": {},
     "source": [
      "##Move to text file\n",
      "\n",
      "* part 1: copy and paste everything in, show that it runs the same from the command line and importing\n",
      "* part 2: add if __name__ == \"__main__\": show that it runs from the command line but not when imported. Talk about module\n",
      "* part 3: add in sys.argv to take filename\n",
      "    * discuss argument order of sys.argv\n",
      "    * import sys\n",
      "    * try different files"
     ]
    },
    {
     "cell_type": "code",
     "collapsed": false,
     "input": [],
     "language": "python",
     "metadata": {},
     "outputs": []
    }
   ],
   "metadata": {}
  }
 ]
}