{
 "metadata": {
  "name": "instructor_basic_python_for_programmers"
 },
 "nbformat": 3,
 "nbformat_minor": 0,
 "worksheets": [
  {
   "cells": [
    {
     "cell_type": "markdown",
     "metadata": {},
     "source": [
      "---\n",
      "\n",
      "#Intro to Python\n",
      "\n",
      "---"
     ]
    },
    {
     "cell_type": "markdown",
     "metadata": {},
     "source": [
      "###Why Python?  \n",
      "1.  Readibility  \n",
      "2.  Built with coder psychology in mind\n",
      "3.  Language interoperability  \n",
      "4.  Object Oriented  \n",
      "5.  It does EVERYTHING  "
     ]
    },
    {
     "cell_type": "markdown",
     "metadata": {},
     "source": [
      "![alt text](http://imgs.xkcd.com/comics/python.png \"Title\")"
     ]
    },
    {
     "cell_type": "markdown",
     "metadata": {},
     "source": [
      "## And simply diving in:  \n",
      "Let's quick look at an example of python showing  \n",
      "\n",
      " *  using libraries  \n",
      " *  using comments  \n",
      " *  variable assignment  \n",
      " *  using functions  \n",
      " *  printing results  \n",
      "  \n",
      "Then we'll go through things more slowly"
     ]
    },
    {
     "cell_type": "code",
     "collapsed": false,
     "input": [
      "1+2"
     ],
     "language": "python",
     "metadata": {},
     "outputs": [
      {
       "output_type": "pyout",
       "prompt_number": 1,
       "text": [
        "3"
       ]
      }
     ],
     "prompt_number": 1
    },
    {
     "cell_type": "code",
     "collapsed": false,
     "input": [
      "import math\n",
      "print math.cos(5)"
     ],
     "language": "python",
     "metadata": {},
     "outputs": [
      {
       "output_type": "stream",
       "stream": "stdout",
       "text": [
        "0.283662185463\n"
       ]
      }
     ],
     "prompt_number": 3
    },
    {
     "cell_type": "code",
     "collapsed": false,
     "input": [
      "x = 2*math.pi\n",
      "print math.cos(x)"
     ],
     "language": "python",
     "metadata": {},
     "outputs": [
      {
       "output_type": "stream",
       "stream": "stdout",
       "text": [
        "1.0\n"
       ]
      }
     ],
     "prompt_number": 4
    },
    {
     "cell_type": "code",
     "collapsed": false,
     "input": [],
     "language": "python",
     "metadata": {},
     "outputs": []
    },
    {
     "cell_type": "code",
     "collapsed": false,
     "input": [],
     "language": "python",
     "metadata": {},
     "outputs": []
    },
    {
     "cell_type": "markdown",
     "metadata": {},
     "source": [
      "  \n",
      "---\n",
      "  \n",
      "# Variables  \n",
      "  \n",
      "---  \n",
      "  \n",
      "*  No need to declare variable types  \n",
      "*  ANYTHING can be put in a variable  \n",
      "    +  numbers  \n",
      "    +  strings  \n",
      "    +  functions  \n",
      "    +  file-handles\n",
      "    +  etc, etc  \n",
      "\n",
      "Variables are just containers to put stuff in, they don't much care what!"
     ]
    },
    {
     "cell_type": "code",
     "collapsed": false,
     "input": [
      "x = 4\n",
      "print x"
     ],
     "language": "python",
     "metadata": {},
     "outputs": [
      {
       "output_type": "stream",
       "stream": "stdout",
       "text": [
        "4\n"
       ]
      }
     ],
     "prompt_number": 8
    },
    {
     "cell_type": "code",
     "collapsed": false,
     "input": [
      "y = 'abc'\n",
      "print y"
     ],
     "language": "python",
     "metadata": {},
     "outputs": [
      {
       "output_type": "stream",
       "stream": "stdout",
       "text": [
        "abc\n"
       ]
      }
     ],
     "prompt_number": 7
    },
    {
     "cell_type": "code",
     "collapsed": false,
     "input": [
      "z = math.cos\n",
      "print z"
     ],
     "language": "python",
     "metadata": {},
     "outputs": [
      {
       "output_type": "stream",
       "stream": "stdout",
       "text": [
        "<built-in function cos>\n"
       ]
      }
     ],
     "prompt_number": 9
    },
    {
     "cell_type": "code",
     "collapsed": false,
     "input": [
      "print z(x)"
     ],
     "language": "python",
     "metadata": {},
     "outputs": [
      {
       "output_type": "stream",
       "stream": "stdout",
       "text": [
        "-0.653643620864\n"
       ]
      }
     ],
     "prompt_number": 10
    },
    {
     "cell_type": "code",
     "collapsed": false,
     "input": [
      "a = [5, 4, 3, 2]\n",
      "print a"
     ],
     "language": "python",
     "metadata": {},
     "outputs": [
      {
       "output_type": "stream",
       "stream": "stdout",
       "text": [
        "[5, 4, 3, 2]\n"
       ]
      }
     ],
     "prompt_number": 11
    },
    {
     "cell_type": "code",
     "collapsed": false,
     "input": [],
     "language": "python",
     "metadata": {},
     "outputs": []
    },
    {
     "cell_type": "markdown",
     "metadata": {},
     "source": [
      "### Numbers: ints and floats"
     ]
    },
    {
     "cell_type": "code",
     "collapsed": false,
     "input": [
      "4+5"
     ],
     "language": "python",
     "metadata": {},
     "outputs": [
      {
       "output_type": "pyout",
       "prompt_number": 12,
       "text": [
        "9"
       ]
      }
     ],
     "prompt_number": 12
    },
    {
     "cell_type": "code",
     "collapsed": false,
     "input": [
      "4+5.0"
     ],
     "language": "python",
     "metadata": {},
     "outputs": [
      {
       "output_type": "pyout",
       "prompt_number": 13,
       "text": [
        "9.0"
       ]
      }
     ],
     "prompt_number": 13
    },
    {
     "cell_type": "code",
     "collapsed": false,
     "input": [
      "6//4"
     ],
     "language": "python",
     "metadata": {},
     "outputs": [
      {
       "output_type": "pyout",
       "prompt_number": 16,
       "text": [
        "1"
       ]
      }
     ],
     "prompt_number": 16
    },
    {
     "cell_type": "code",
     "collapsed": false,
     "input": [],
     "language": "python",
     "metadata": {},
     "outputs": []
    },
    {
     "cell_type": "markdown",
     "metadata": {},
     "source": [
      "## *Excercise:*  \n",
      "\n",
      "Do some basic arithmetic with floats and integers.  \n",
      "\n",
      "*  addition:        +  \n",
      "*  subtraction:     -  \n",
      "*  multiplication:  *  \n",
      "*  division:        /  \n",
      "*  exponentiataion: **\n",
      "*  modulo:          %"
     ]
    },
    {
     "cell_type": "code",
     "collapsed": false,
     "input": [],
     "language": "python",
     "metadata": {},
     "outputs": [],
     "prompt_number": 46
    },
    {
     "cell_type": "code",
     "collapsed": false,
     "input": [],
     "language": "python",
     "metadata": {},
     "outputs": []
    },
    {
     "cell_type": "markdown",
     "metadata": {},
     "source": [
      "### Strings"
     ]
    },
    {
     "cell_type": "code",
     "collapsed": false,
     "input": [
      "d = 'abcdefg'\n",
      "print d[0:3], d[3:]\n",
      "print d[-3:-1]\n",
      "print d.find('b')\n",
      "print d[d.find('b'):]"
     ],
     "language": "python",
     "metadata": {},
     "outputs": [
      {
       "output_type": "stream",
       "stream": "stdout",
       "text": [
        "abc defg\n",
        "ef\n",
        "1\n",
        "bcdefg\n"
       ]
      }
     ],
     "prompt_number": 22
    },
    {
     "cell_type": "code",
     "collapsed": false,
     "input": [
      "f = 'abababcbdb'\n",
      "print f.split('b')"
     ],
     "language": "python",
     "metadata": {},
     "outputs": [
      {
       "output_type": "stream",
       "stream": "stdout",
       "text": [
        "['a', 'a', 'a', 'c', 'd', '']\n"
       ]
      }
     ],
     "prompt_number": 23
    },
    {
     "cell_type": "markdown",
     "metadata": {},
     "source": [
      "### Lists\n",
      "\n",
      "This is NOT the python equivalent to an IDL array.  \n",
      "This is a list, which serves a different purpose."
     ]
    },
    {
     "cell_type": "code",
     "collapsed": false,
     "input": [
      "my_list = [ 1 , 2, 3]\n",
      "type(my_list)"
     ],
     "language": "python",
     "metadata": {},
     "outputs": [
      {
       "output_type": "pyout",
       "prompt_number": 25,
       "text": [
        "list"
       ]
      }
     ],
     "prompt_number": 25
    },
    {
     "cell_type": "code",
     "collapsed": false,
     "input": [
      "my_list+my_list"
     ],
     "language": "python",
     "metadata": {},
     "outputs": [
      {
       "output_type": "pyout",
       "prompt_number": 26,
       "text": [
        "[1, 2, 3, 1, 2, 3]"
       ]
      }
     ],
     "prompt_number": 26
    },
    {
     "cell_type": "code",
     "collapsed": false,
     "input": [
      "print 3+5\n",
      "print my_list[1:4]"
     ],
     "language": "python",
     "metadata": {},
     "outputs": [
      {
       "output_type": "stream",
       "stream": "stdout",
       "text": [
        "8\n",
        "[2, 3]\n"
       ]
      }
     ],
     "prompt_number": 32
    },
    {
     "cell_type": "markdown",
     "metadata": {},
     "source": [
      "---\n",
      "\n",
      "# Operations...but not only with numbers?\n",
      "\n",
      "---"
     ]
    },
    {
     "cell_type": "markdown",
     "metadata": {},
     "source": [
      "##Exercise:\n",
      "\n",
      "1. Try different operations on different data types: use addition to \"add\" integers, floats, strings, and lists. Does addition behave the same when acting on a string vs a float?\n",
      "\n",
      "2. Now try with multiplication, division, and subtraction. Do these operations work on all data types?\n"
     ]
    },
    {
     "cell_type": "code",
     "collapsed": false,
     "input": [
      "my_list = [1, 2, 3, 4]\n",
      "my_str = 'abcd'\n",
      "my_int = 4\n",
      "my_float = 5.0"
     ],
     "language": "python",
     "metadata": {},
     "outputs": [],
     "prompt_number": 33
    },
    {
     "cell_type": "code",
     "collapsed": false,
     "input": [
      "print my_list*3\n",
      "print my_str *3\n",
      "print my_int*3"
     ],
     "language": "python",
     "metadata": {},
     "outputs": [
      {
       "output_type": "stream",
       "stream": "stdout",
       "text": [
        "[1, 2, 3, 4, 1, 2, 3, 4, 1, 2, 3, 4]\n",
        "abcdabcdabcd\n",
        "12\n"
       ]
      }
     ],
     "prompt_number": 36
    },
    {
     "cell_type": "code",
     "collapsed": false,
     "input": [
      "print my_str+'3'\n",
      "print my_int + 3\n",
      "print my_float+3"
     ],
     "language": "python",
     "metadata": {},
     "outputs": [
      {
       "output_type": "stream",
       "stream": "stdout",
       "text": [
        "abcd3\n",
        "7\n",
        "8.0\n"
       ]
      }
     ],
     "prompt_number": 40
    },
    {
     "cell_type": "code",
     "collapsed": false,
     "input": [
      "#print my_list/3\n",
      "#print my_str/3\n",
      "print my_int//3"
     ],
     "language": "python",
     "metadata": {},
     "outputs": [
      {
       "output_type": "stream",
       "stream": "stdout",
       "text": [
        "1\n"
       ]
      }
     ],
     "prompt_number": 44
    },
    {
     "cell_type": "code",
     "collapsed": false,
     "input": [],
     "language": "python",
     "metadata": {},
     "outputs": []
    },
    {
     "cell_type": "code",
     "collapsed": false,
     "input": [],
     "language": "python",
     "metadata": {},
     "outputs": []
    },
    {
     "cell_type": "markdown",
     "metadata": {},
     "source": [
      "# If you finish early, take a break"
     ]
    },
    {
     "cell_type": "code",
     "collapsed": false,
     "input": [],
     "language": "python",
     "metadata": {},
     "outputs": []
    },
    {
     "cell_type": "markdown",
     "metadata": {},
     "source": [
      "## *Excercise:*  \n",
      "\n",
      "Make a string containing \"luminiferous ether\" 10 times.\n",
      "\n",
      "Then make a list of that string 100 times."
     ]
    },
    {
     "cell_type": "code",
     "collapsed": false,
     "input": [
      "my_str = [\"luminiferous ether \"]*10\n",
      "print my_str"
     ],
     "language": "python",
     "metadata": {},
     "outputs": [
      {
       "output_type": "stream",
       "stream": "stdout",
       "text": [
        "['luminiferous ether ', 'luminiferous ether ', 'luminiferous ether ', 'luminiferous ether ', 'luminiferous ether ', 'luminiferous ether ', 'luminiferous ether ', 'luminiferous ether ', 'luminiferous ether ', 'luminiferous ether ']\n"
       ]
      }
     ],
     "prompt_number": 49
    },
    {
     "cell_type": "markdown",
     "metadata": {},
     "source": [
      "# More datatypes"
     ]
    },
    {
     "cell_type": "markdown",
     "metadata": {},
     "source": [
      "###Tuple"
     ]
    },
    {
     "cell_type": "code",
     "collapsed": false,
     "input": [
      "my_tuple = (1, 2, 3)\n",
      "print type(my_tuple)\n",
      "my_list = [1, 2, 3]\n",
      "print type(my_list)"
     ],
     "language": "python",
     "metadata": {},
     "outputs": [
      {
       "output_type": "stream",
       "stream": "stdout",
       "text": [
        "<type 'tuple'>\n",
        "<type 'list'>\n"
       ]
      }
     ],
     "prompt_number": 52
    },
    {
     "cell_type": "code",
     "collapsed": false,
     "input": [
      "my_tuple[2]\n",
      "my_tuple[1] = 5"
     ],
     "language": "python",
     "metadata": {},
     "outputs": [
      {
       "ename": "TypeError",
       "evalue": "'tuple' object does not support item assignment",
       "output_type": "pyerr",
       "traceback": [
        "\u001b[0;31m---------------------------------------------------------------------------\u001b[0m\n\u001b[0;31mTypeError\u001b[0m                                 Traceback (most recent call last)",
        "\u001b[0;32m<ipython-input-54-f34389660111>\u001b[0m in \u001b[0;36m<module>\u001b[0;34m()\u001b[0m\n\u001b[1;32m      1\u001b[0m \u001b[0mmy_tuple\u001b[0m\u001b[0;34m[\u001b[0m\u001b[0;36m2\u001b[0m\u001b[0;34m]\u001b[0m\u001b[0;34m\u001b[0m\u001b[0m\n\u001b[0;32m----> 2\u001b[0;31m \u001b[0mmy_tuple\u001b[0m\u001b[0;34m[\u001b[0m\u001b[0;36m1\u001b[0m\u001b[0;34m]\u001b[0m \u001b[0;34m=\u001b[0m \u001b[0;36m5\u001b[0m\u001b[0;34m\u001b[0m\u001b[0m\n\u001b[0m",
        "\u001b[0;31mTypeError\u001b[0m: 'tuple' object does not support item assignment"
       ]
      }
     ],
     "prompt_number": 54
    },
    {
     "cell_type": "markdown",
     "metadata": {},
     "source": [
      "###Dictionary"
     ]
    },
    {
     "cell_type": "code",
     "collapsed": false,
     "input": [
      "my_dict = {'apple':3, 'banana':2, 'carrot':5}\n",
      "print my_dict"
     ],
     "language": "python",
     "metadata": {},
     "outputs": [
      {
       "output_type": "stream",
       "stream": "stdout",
       "text": [
        "{'carrot': 5, 'apple': 3, 'banana': 2}\n"
       ]
      }
     ],
     "prompt_number": 55
    },
    {
     "cell_type": "code",
     "collapsed": false,
     "input": [
      "#Also, an example of using dictionaries\n",
      "fruit = 'apple'\n",
      "#Option 1:\n",
      "if fruit == 'banana':\n",
      "    quantity = 2\n",
      "elif fruit == 'carrot':\n",
      "    quantity = 5\n",
      "elif fruit == 'apple':\n",
      "    quantity = 3\n",
      "else:\n",
      "    print 'I do not know how much fruit to by for the fruit you specified'\n",
      "    \n",
      "#Option 2:\n",
      "quantity = my_dict[fruit]"
     ],
     "language": "python",
     "metadata": {},
     "outputs": []
    },
    {
     "cell_type": "markdown",
     "metadata": {},
     "source": [
      "### Numpy Array"
     ]
    },
    {
     "cell_type": "code",
     "collapsed": false,
     "input": [
      "import numpy as np"
     ],
     "language": "python",
     "metadata": {},
     "outputs": [],
     "prompt_number": 56
    },
    {
     "cell_type": "code",
     "collapsed": false,
     "input": [
      "one_array = np.ones((5, 4))\n",
      "print one_array*5*one_array\n",
      "print type(one_array)"
     ],
     "language": "python",
     "metadata": {},
     "outputs": [
      {
       "output_type": "stream",
       "stream": "stdout",
       "text": [
        "[[ 5.  5.  5.  5.]\n",
        " [ 5.  5.  5.  5.]\n",
        " [ 5.  5.  5.  5.]\n",
        " [ 5.  5.  5.  5.]\n",
        " [ 5.  5.  5.  5.]]\n",
        "<type 'numpy.ndarray'>\n"
       ]
      }
     ],
     "prompt_number": 64
    },
    {
     "cell_type": "code",
     "collapsed": false,
     "input": [
      "print np.arange(3, 50, 10)"
     ],
     "language": "python",
     "metadata": {},
     "outputs": [
      {
       "output_type": "stream",
       "stream": "stdout",
       "text": [
        "[ 3 13 23 33 43]\n"
       ]
      }
     ],
     "prompt_number": 60
    },
    {
     "cell_type": "code",
     "collapsed": false,
     "input": [
      "#List \n",
      "range(10)"
     ],
     "language": "python",
     "metadata": {},
     "outputs": [
      {
       "output_type": "pyout",
       "prompt_number": 61,
       "text": [
        "[0, 1, 2, 3, 4, 5, 6, 7, 8, 9]"
       ]
      }
     ],
     "prompt_number": 61
    },
    {
     "cell_type": "code",
     "collapsed": false,
     "input": [
      "my_array = np.array([1, 2, 3, 4])\n",
      "print type(my_array)"
     ],
     "language": "python",
     "metadata": {},
     "outputs": [
      {
       "output_type": "stream",
       "stream": "stdout",
       "text": [
        "<type 'numpy.ndarray'>\n"
       ]
      }
     ],
     "prompt_number": 65
    },
    {
     "cell_type": "code",
     "collapsed": false,
     "input": [
      "my_list = [1, 'a', 'apple', [1,2,3]]\n",
      "np.array(my_list)"
     ],
     "language": "python",
     "metadata": {},
     "outputs": [
      {
       "ename": "ValueError",
       "evalue": "cannot set an array element with a sequence",
       "output_type": "pyerr",
       "traceback": [
        "\u001b[0;31m---------------------------------------------------------------------------\u001b[0m\n\u001b[0;31mValueError\u001b[0m                                Traceback (most recent call last)",
        "\u001b[0;32m<ipython-input-67-c5b4cfa2372f>\u001b[0m in \u001b[0;36m<module>\u001b[0;34m()\u001b[0m\n\u001b[1;32m      1\u001b[0m \u001b[0mmy_list\u001b[0m \u001b[0;34m=\u001b[0m \u001b[0;34m[\u001b[0m\u001b[0;36m1\u001b[0m\u001b[0;34m,\u001b[0m \u001b[0;34m'a'\u001b[0m\u001b[0;34m,\u001b[0m \u001b[0;34m'apple'\u001b[0m\u001b[0;34m,\u001b[0m \u001b[0;34m[\u001b[0m\u001b[0;36m1\u001b[0m\u001b[0;34m,\u001b[0m\u001b[0;36m2\u001b[0m\u001b[0;34m,\u001b[0m \u001b[0;36m3\u001b[0m\u001b[0;34m]\u001b[0m\u001b[0;34m]\u001b[0m\u001b[0;34m\u001b[0m\u001b[0m\n\u001b[0;32m----> 2\u001b[0;31m \u001b[0mnp\u001b[0m\u001b[0;34m.\u001b[0m\u001b[0marray\u001b[0m\u001b[0;34m(\u001b[0m\u001b[0mmy_list\u001b[0m\u001b[0;34m)\u001b[0m\u001b[0;34m\u001b[0m\u001b[0m\n\u001b[0m",
        "\u001b[0;31mValueError\u001b[0m: cannot set an array element with a sequence"
       ]
      }
     ],
     "prompt_number": 67
    },
    {
     "cell_type": "markdown",
     "metadata": {},
     "source": [
      "----------------\n",
      "#Control Statements\n",
      "\n",
      "-----------------"
     ]
    },
    {
     "cell_type": "markdown",
     "metadata": {},
     "source": [
      "All control statements use : followed by indentation to denote that a given statement is acting on everything indented below. This improve readability by forcing you to write good code and remove the chance of forgetting to end your statement "
     ]
    },
    {
     "cell_type": "markdown",
     "metadata": {},
     "source": [
      "###For loop"
     ]
    },
    {
     "cell_type": "code",
     "collapsed": false,
     "input": [
      "my_list = [12, 24, 37, 49]\n",
      "for number in my_list:\n",
      "    print number*5\n",
      "    print number + 4\n",
      "print 'end'"
     ],
     "language": "python",
     "metadata": {},
     "outputs": [
      {
       "output_type": "stream",
       "stream": "stdout",
       "text": [
        "60\n",
        "16\n",
        "120\n",
        "28\n",
        "185\n",
        "41\n",
        "245\n",
        "53\n",
        "end\n"
       ]
      }
     ],
     "prompt_number": 70
    },
    {
     "cell_type": "code",
     "collapsed": false,
     "input": [
      "my_func_list = [math.cos, math.sin, math.tan]\n",
      "for ifunction in my_func_list:\n",
      "    print ifunction(3)"
     ],
     "language": "python",
     "metadata": {},
     "outputs": [
      {
       "output_type": "stream",
       "stream": "stdout",
       "text": [
        "-0.9899924966\n",
        "0.14112000806\n",
        "-0.142546543074\n"
       ]
      }
     ],
     "prompt_number": 71
    },
    {
     "cell_type": "code",
     "collapsed": false,
     "input": [
      "my_list = [12, 24, 37, 49]\n",
      "for i, number in enumerate(my_list):\n",
      "    print number*5\n",
      "    print number + 4\n",
      "    print 'index = ', i\n",
      "print 'end'"
     ],
     "language": "python",
     "metadata": {},
     "outputs": [
      {
       "output_type": "stream",
       "stream": "stdout",
       "text": [
        "60\n",
        "16\n",
        "index =  0\n",
        "120\n",
        "28\n",
        "index =  1\n",
        "185\n",
        "41\n",
        "index =  2\n",
        "245\n",
        "53\n",
        "index =  3\n",
        "end\n"
       ]
      }
     ],
     "prompt_number": 73
    },
    {
     "cell_type": "code",
     "collapsed": false,
     "input": [
      "my_list1 = [2, 3, 4]\n",
      "my_list2 = ['a', 'b', 'c']\n",
      "for number, string in zip(my_list1, my_list2):\n",
      "    print number, string"
     ],
     "language": "python",
     "metadata": {},
     "outputs": [
      {
       "output_type": "stream",
       "stream": "stdout",
       "text": [
        "2 a\n",
        "3 b\n",
        "4 c\n"
       ]
      }
     ],
     "prompt_number": 74
    },
    {
     "cell_type": "markdown",
     "metadata": {},
     "source": [
      "###If Statements"
     ]
    },
    {
     "cell_type": "code",
     "collapsed": false,
     "input": [
      "#From above:\n",
      "if fruit == 'banana':\n",
      "    quantity = 2\n",
      "elif fruit == 'carrot':\n",
      "    quantity = 5\n",
      "elif fruit == 'apple':\n",
      "    quantity = 3\n",
      "else:\n",
      "    print 'I do not know how much fruit to by for the fruit you specified'"
     ],
     "language": "python",
     "metadata": {},
     "outputs": []
    },
    {
     "cell_type": "code",
     "collapsed": false,
     "input": [
      "number = 0\n",
      "if number >= 0:\n",
      "    print 'positive'\n",
      "elif number < 0:\n",
      "    print 'negative'\n",
      "else:\n",
      "    print 'zero'"
     ],
     "language": "python",
     "metadata": {},
     "outputs": [
      {
       "output_type": "stream",
       "stream": "stdout",
       "text": [
        "positive\n"
       ]
      }
     ],
     "prompt_number": 78
    },
    {
     "cell_type": "markdown",
     "metadata": {},
     "source": [
      "###Other useful statements:\n",
      "\n",
      "* while condition:\n",
      "* break - stop iterating\n",
      "* continue - go to next interation\n"
     ]
    },
    {
     "cell_type": "markdown",
     "metadata": {},
     "source": [
      "---\n",
      "\n",
      "# Everything is an object\n",
      "\n",
      "---\n",
      "\n",
      "**Everthing** really is an object in python.  Lists, functions, strings, even numbers.\n",
      "\n",
      "This is important as we start to manipulate these data types.\n",
      "\n",
      "We can get information about objects and ask them to do things "
     ]
    },
    {
     "cell_type": "markdown",
     "metadata": {},
     "source": [
      "###Attributes: describing an object"
     ]
    },
    {
     "cell_type": "code",
     "collapsed": false,
     "input": [
      "my_array = np.ones((4,3))\n",
      "print my_array"
     ],
     "language": "python",
     "metadata": {},
     "outputs": [
      {
       "output_type": "stream",
       "stream": "stdout",
       "text": [
        "[[ 1.  1.  1.]\n",
        " [ 1.  1.  1.]\n",
        " [ 1.  1.  1.]\n",
        " [ 1.  1.  1.]]\n"
       ]
      }
     ],
     "prompt_number": 79
    },
    {
     "cell_type": "code",
     "collapsed": false,
     "input": [
      "print my_array.T\n",
      "print my_array.shape\n",
      "print my_array.T.shape"
     ],
     "language": "python",
     "metadata": {},
     "outputs": [
      {
       "output_type": "stream",
       "stream": "stdout",
       "text": [
        "[[ 1.  1.  1.  1.]\n",
        " [ 1.  1.  1.  1.]\n",
        " [ 1.  1.  1.  1.]]\n",
        "(4, 3)\n",
        "(3, 4)\n"
       ]
      }
     ],
     "prompt_number": 82
    },
    {
     "cell_type": "code",
     "collapsed": false,
     "input": [
      "x = 4\n",
      "print x.real\n",
      "print x.imag"
     ],
     "language": "python",
     "metadata": {},
     "outputs": [
      {
       "output_type": "stream",
       "stream": "stdout",
       "text": [
        "4\n",
        "0\n"
       ]
      }
     ],
     "prompt_number": 84
    },
    {
     "cell_type": "markdown",
     "metadata": {},
     "source": [
      "###Methods: Doing something with or to an object"
     ]
    },
    {
     "cell_type": "code",
     "collapsed": false,
     "input": [
      "print my_array.mean()\n",
      "my_array = np.arange(10)\n",
      "print my_array\n",
      "print my_array.mean()"
     ],
     "language": "python",
     "metadata": {},
     "outputs": [
      {
       "output_type": "stream",
       "stream": "stdout",
       "text": [
        "4.5\n",
        "[0 1 2 3 4 5 6 7 8 9]\n",
        "4.5\n"
       ]
      }
     ],
     "prompt_number": 87
    },
    {
     "cell_type": "code",
     "collapsed": false,
     "input": [
      "print my_dict.keys()"
     ],
     "language": "python",
     "metadata": {},
     "outputs": [
      {
       "output_type": "stream",
       "stream": "stdout",
       "text": [
        "['carrot', 'apple', 'banana']\n"
       ]
      }
     ],
     "prompt_number": 88
    },
    {
     "cell_type": "code",
     "collapsed": false,
     "input": [
      "dir(my_dict)"
     ],
     "language": "python",
     "metadata": {},
     "outputs": [
      {
       "output_type": "pyout",
       "prompt_number": 89,
       "text": [
        "['__class__',\n",
        " '__cmp__',\n",
        " '__contains__',\n",
        " '__delattr__',\n",
        " '__delitem__',\n",
        " '__doc__',\n",
        " '__eq__',\n",
        " '__format__',\n",
        " '__ge__',\n",
        " '__getattribute__',\n",
        " '__getitem__',\n",
        " '__gt__',\n",
        " '__hash__',\n",
        " '__init__',\n",
        " '__iter__',\n",
        " '__le__',\n",
        " '__len__',\n",
        " '__lt__',\n",
        " '__ne__',\n",
        " '__new__',\n",
        " '__reduce__',\n",
        " '__reduce_ex__',\n",
        " '__repr__',\n",
        " '__setattr__',\n",
        " '__setitem__',\n",
        " '__sizeof__',\n",
        " '__str__',\n",
        " '__subclasshook__',\n",
        " 'clear',\n",
        " 'copy',\n",
        " 'fromkeys',\n",
        " 'get',\n",
        " 'has_key',\n",
        " 'items',\n",
        " 'iteritems',\n",
        " 'iterkeys',\n",
        " 'itervalues',\n",
        " 'keys',\n",
        " 'pop',\n",
        " 'popitem',\n",
        " 'setdefault',\n",
        " 'update',\n",
        " 'values',\n",
        " 'viewitems',\n",
        " 'viewkeys',\n",
        " 'viewvalues']"
       ]
      }
     ],
     "prompt_number": 89
    },
    {
     "cell_type": "code",
     "collapsed": false,
     "input": [
      "my_dict.values()"
     ],
     "language": "python",
     "metadata": {},
     "outputs": [
      {
       "output_type": "pyout",
       "prompt_number": 90,
       "text": [
        "[5, 3, 2]"
       ]
      }
     ],
     "prompt_number": 90
    },
    {
     "cell_type": "markdown",
     "metadata": {},
     "source": [
      "###What else can you do with an object?"
     ]
    },
    {
     "cell_type": "code",
     "collapsed": false,
     "input": [
      "help(my_array.mean)"
     ],
     "language": "python",
     "metadata": {},
     "outputs": [
      {
       "output_type": "stream",
       "stream": "stdout",
       "text": [
        "Help on built-in function mean:\n",
        "\n",
        "mean(...)\n",
        "    a.mean(axis=None, dtype=None, out=None)\n",
        "    \n",
        "    Returns the average of the array elements along given axis.\n",
        "    \n",
        "    Refer to `numpy.mean` for full documentation.\n",
        "    \n",
        "    See Also\n",
        "    --------\n",
        "    numpy.mean : equivalent function\n",
        "\n"
       ]
      }
     ],
     "prompt_number": 92
    },
    {
     "cell_type": "code",
     "collapsed": false,
     "input": [],
     "language": "python",
     "metadata": {},
     "outputs": []
    },
    {
     "cell_type": "markdown",
     "metadata": {},
     "source": [
      "-----------------\n",
      "#Getting Help\n",
      "\n",
      "-----------------"
     ]
    },
    {
     "cell_type": "code",
     "collapsed": false,
     "input": [
      "help(math.cos)"
     ],
     "language": "python",
     "metadata": {},
     "outputs": [
      {
       "output_type": "stream",
       "stream": "stdout",
       "text": [
        "Help on built-in function cos in module math:\n",
        "\n",
        "cos(...)\n",
        "    cos(x)\n",
        "    \n",
        "    Return the cosine of x (measured in radians).\n",
        "\n"
       ]
      }
     ],
     "prompt_number": 94
    },
    {
     "cell_type": "markdown",
     "metadata": {},
     "source": [
      "## *Excercise:*  \n",
      "\n",
      "1.  Put your favorite astronomical target in a variable  (e.g. astro_obj = 'supernovae')\n",
      "2.  Use the dir() function to find out how to:  \n",
      "    *  make everything in caps\n",
      "    *  count the occurance of your favorite vowel, 'a','e','i','o','u'\n"
     ]
    },
    {
     "cell_type": "code",
     "collapsed": false,
     "input": [
      "astro_obj = 'supernovae'\n",
      "#print dir(astro_obj)\n",
      "astro_obj.upper()"
     ],
     "language": "python",
     "metadata": {},
     "outputs": [
      {
       "output_type": "pyout",
       "prompt_number": 101,
       "text": [
        "'SUPERNOVAE'"
       ]
      }
     ],
     "prompt_number": 101
    },
    {
     "cell_type": "code",
     "collapsed": false,
     "input": [
      "#print dir(astro_obj)\n",
      "#help(astro_obj.count)\n",
      "print astro_obj.count('e')"
     ],
     "language": "python",
     "metadata": {},
     "outputs": [
      {
       "output_type": "stream",
       "stream": "stdout",
       "text": [
        "2\n"
       ]
      }
     ],
     "prompt_number": 105
    },
    {
     "cell_type": "markdown",
     "metadata": {},
     "source": [
      "---\n",
      "\n",
      "# Errors and the Traceback\n",
      "\n",
      "---\n",
      "\n",
      "It may look scary, but it is **EXTREMELY** helpful.\n",
      "\n",
      "When you execute code or run a script, python executes the  \n",
      "instructions line by line until it reaches an error or the end of the code.\n",
      "\n",
      "This means that the interpreter knows exactly where it was when it   \n",
      "encountered something that caused a crash, and will tell you exactly which  \n",
      "line of code caused the problem.\n",
      "\n",
      "It also throws useful error messages, which can be useful for de-bugging."
     ]
    },
    {
     "cell_type": "code",
     "collapsed": false,
     "input": [
      "my_tuple = (1, 4, 5, 'a')\n",
      "print my_tuple\n",
      "my_tuple[1] = 8"
     ],
     "language": "python",
     "metadata": {},
     "outputs": [
      {
       "ename": "TypeError",
       "evalue": "'tuple' object does not support item assignment",
       "output_type": "pyerr",
       "traceback": [
        "\u001b[0;31m---------------------------------------------------------------------------\u001b[0m\n\u001b[0;31mTypeError\u001b[0m                                 Traceback (most recent call last)",
        "\u001b[0;32m<ipython-input-110-50c2adcc828b>\u001b[0m in \u001b[0;36m<module>\u001b[0;34m()\u001b[0m\n\u001b[1;32m      1\u001b[0m \u001b[0mmy_tuple\u001b[0m \u001b[0;34m=\u001b[0m \u001b[0;34m(\u001b[0m\u001b[0;36m1\u001b[0m\u001b[0;34m,\u001b[0m \u001b[0;36m4\u001b[0m\u001b[0;34m,\u001b[0m \u001b[0;36m5\u001b[0m\u001b[0;34m,\u001b[0m \u001b[0;34m'a'\u001b[0m\u001b[0;34m)\u001b[0m\u001b[0;34m\u001b[0m\u001b[0m\n\u001b[1;32m      2\u001b[0m \u001b[0;32mprint\u001b[0m \u001b[0mmy_tuple\u001b[0m\u001b[0;34m\u001b[0m\u001b[0m\n\u001b[0;32m----> 3\u001b[0;31m \u001b[0mmy_tuple\u001b[0m\u001b[0;34m[\u001b[0m\u001b[0;36m1\u001b[0m\u001b[0;34m]\u001b[0m \u001b[0;34m=\u001b[0m \u001b[0;36m8\u001b[0m\u001b[0;34m\u001b[0m\u001b[0m\n\u001b[0m",
        "\u001b[0;31mTypeError\u001b[0m: 'tuple' object does not support item assignment"
       ]
      },
      {
       "output_type": "stream",
       "stream": "stdout",
       "text": [
        "(1, 4, 5, 'a')\n"
       ]
      }
     ],
     "prompt_number": 110
    },
    {
     "cell_type": "markdown",
     "metadata": {},
     "source": [
      "This doesn't just work for math, it also works for incorrect syntax, missing variables, etc"
     ]
    },
    {
     "cell_type": "markdown",
     "metadata": {},
     "source": [
      "## *Exercise*\n",
      "\n",
      "* Find and correct the errors in the cell below until the code runs all the way through without errors"
     ]
    },
    {
     "cell_type": "code",
     "collapsed": false,
     "input": [
      "\n",
      "first_name = 'justin'\n",
      "last_name = 'ely'\n",
      "\n",
      "print first_name, ' ', last_name\n",
      "\n",
      "age = 25 + 0j\n",
      "print 'And I am ', age.real, ' old'\n",
      "\n"
     ],
     "language": "python",
     "metadata": {},
     "outputs": [
      {
       "output_type": "stream",
       "stream": "stdout",
       "text": [
        " justin   ely\n",
        "And I am  25.0  old\n"
       ]
      }
     ],
     "prompt_number": 114
    },
    {
     "cell_type": "markdown",
     "metadata": {},
     "source": [
      "Remember: the traceback is your friend!  \n",
      "  \n",
      "  "
     ]
    },
    {
     "cell_type": "markdown",
     "metadata": {},
     "source": [
      "---------------------\n",
      "#Functions\n",
      "\n",
      "---------------------"
     ]
    },
    {
     "cell_type": "markdown",
     "metadata": {},
     "source": [
      "Functions should be:\n",
      "\n",
      "* *SMALL* When you write code, you should write short functions centered on a single task. Think of your code as an essay and each function as a paragraph. It is overwhelming to read an essay (or book) without paragraphs and you are likely to miss errors you would have otherwise caught. Small functions:\n",
      "\n",
      "    * Improve readability\n",
      "    * Easy to reuse\n",
      "    * avoid repeating code with different variables\n",
      "    * avoid changing code in multiple places\n",
      "\n",
      "* *WELL NAMED* Your function calls (and variable names) should describe exactly what you are doing. This makes your code very readable\n",
      "\n",
      "Let's write a program to read a 2 column text file with number of UFO sightings for each month of a given year (data from: http://www.nuforc.org/webreports/ndxevent.html)"
     ]
    },
    {
     "cell_type": "code",
     "collapsed": false,
     "input": [
      "def read_file(filename):\n",
      "    ofile = open(filename, 'r')\n",
      "    all_lines = ofile.readlines()\n",
      "    return all_lines\n",
      "\n",
      "def parse_line(iline):\n",
      "    split_line = iline.split()\n",
      "    split_line[1] = float(split_line[1])\n",
      "    return split_line[0], split_line[1]"
     ],
     "language": "python",
     "metadata": {},
     "outputs": [],
     "prompt_number": 124
    },
    {
     "cell_type": "code",
     "collapsed": false,
     "input": [
      "all_lines = read_file('ufo_sightings_2011.txt')\n",
      "date_list = []\n",
      "ufo_num = []\n",
      "for iline in all_lines:\n",
      "    date, number_of_ufos = parse_line(iline)\n",
      "    date_list.append(date)\n",
      "    ufo_num.append(number_of_ufos)\n"
     ],
     "language": "python",
     "metadata": {},
     "outputs": [],
     "prompt_number": 125
    },
    {
     "cell_type": "code",
     "collapsed": false,
     "input": [
      "print date_list\n",
      "print ufo_num"
     ],
     "language": "python",
     "metadata": {},
     "outputs": [
      {
       "output_type": "stream",
       "stream": "stdout",
       "text": [
        "['Jan', 'Feb', 'Mar', 'Apr', 'May', 'Jun', 'Jul', 'Aug', 'Sep', 'Oct', 'Nov', 'Dec']\n",
        "[327.0, 273.0, 330.0, 316.0, 316.0, 395.0, 754.0, 635.0, 550.0, 639.0, 444.0, 532.0]\n"
       ]
      }
     ],
     "prompt_number": 127
    },
    {
     "cell_type": "code",
     "collapsed": false,
     "input": [],
     "language": "python",
     "metadata": {},
     "outputs": []
    },
    {
     "cell_type": "code",
     "collapsed": false,
     "input": [],
     "language": "python",
     "metadata": {},
     "outputs": []
    },
    {
     "cell_type": "code",
     "collapsed": false,
     "input": [],
     "language": "python",
     "metadata": {},
     "outputs": []
    },
    {
     "cell_type": "markdown",
     "metadata": {},
     "source": [
      "## *Exercise*\n",
      "\n",
      "1. Write a function to find the mean of a list of numbers\n",
      "2. Use read_file, parse_file, and the mean function you just wrote to find the average number of UFO sightings per month in 2013"
     ]
    },
    {
     "cell_type": "code",
     "collapsed": false,
     "input": [],
     "language": "python",
     "metadata": {},
     "outputs": []
    },
    {
     "cell_type": "code",
     "collapsed": false,
     "input": [],
     "language": "python",
     "metadata": {},
     "outputs": []
    },
    {
     "cell_type": "markdown",
     "metadata": {},
     "source": [
      "##Move to text file\n",
      "\n",
      "* part 1: copy and paste everything in, show that it runs the same from the command line and importing\n",
      "* part 2: add if __name__ == \"__main__\": show that it runs from the command line but not when imported. Talk about module\n",
      "* part 3: add in sys.argv to take filename\n",
      "    * discuss argument order of sys.argv\n",
      "    * import sys\n",
      "    * try different files"
     ]
    },
    {
     "cell_type": "code",
     "collapsed": false,
     "input": [],
     "language": "python",
     "metadata": {},
     "outputs": []
    }
   ],
   "metadata": {}
  }
 ]
}